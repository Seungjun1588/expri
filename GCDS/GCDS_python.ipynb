{
 "cells": [
  {
   "cell_type": "code",
   "execution_count": 425,
   "id": "2736326e",
   "metadata": {},
   "outputs": [],
   "source": [
    "import torch\n",
    "import torch.nn as nn\n",
    "import torch.optim as optim\n",
    "import torchvision.utils as utils\n",
    "import torchvision.datasets as dsets\n",
    "from torchvision import datasets\n",
    "from torch.utils.data import Dataset\n",
    "import torchvision.transforms as transforms\n",
    "from torchvision.utils import save_image\n",
    "\n",
    "import os\n",
    "import numpy as np\n",
    "import matplotlib.pyplot as plt"
   ]
  },
  {
   "cell_type": "code",
   "execution_count": 2,
   "id": "465d3ad3",
   "metadata": {},
   "outputs": [
    {
     "name": "stdout",
     "output_type": "stream",
     "text": [
      "device = cuda\n"
     ]
    }
   ],
   "source": [
    "device = 'cuda' if torch.cuda.is_available() else 'cpu'\n",
    "print(f\"device = {device}\")\n",
    "sample_dir = 'samples'\n",
    "if not os.path.exists(sample_dir):\n",
    "    os.makedirs(sample_dir)"
   ]
  },
  {
   "cell_type": "code",
   "execution_count": 3,
   "id": "ceb3b047",
   "metadata": {},
   "outputs": [],
   "source": [
    "# 하이퍼파라미터 설정\n",
    "latent_size = 64\n",
    "hidden_size = 256\n",
    "image_size = 784 # 28 * 28\n",
    "num_epochs = 300\n",
    "batch_size = 100"
   ]
  },
  {
   "cell_type": "code",
   "execution_count": 6,
   "id": "82b7f059",
   "metadata": {},
   "outputs": [],
   "source": [
    "# Image Processing\n",
    "transform = transforms.Compose([\n",
    "                    transforms.ToTensor(),\n",
    "                    transforms.Normalize(mean=[0.5], # 1 for gray scale 만약, RGB channels라면 mean=(0.5, 0.5, 0.5)\n",
    "                                         std=[0.5])])  # 1 for gray scale 만약, RGB channels라면 std=(0.5, 0.5, 0.5)\n",
    "\n",
    "# MNIST 데이터셋\n",
    "mnist_train = dsets.MNIST(root='data/',\n",
    "                         train=True, # 트레인 셋\n",
    "                         transform=transform,\n",
    "                         download=True)\n",
    "mnist_test  = dsets.MNIST(root='data/', \n",
    "                          train=False,\n",
    "                          transform=transform,\n",
    "                          download=True)\n",
    "# 랜덤으로 9개만 시각화"
   ]
  },
  {
   "cell_type": "code",
   "execution_count": null,
   "id": "68319e9a",
   "metadata": {},
   "outputs": [],
   "source": [
    "mnist_train = dsets.MNIST(root='data/',\n",
    "                         train=True, # 트레인 셋\n",
    "                         transform=transforms.Compose([\n",
    "                         transforms.ToTensor(),\n",
    "                         transforms.Normalize(mean=[0.5],\n",
    "                                             std=[0.5]),\n",
    "                         transforms.FiveCrop([14,14])\n",
    "                         ]),\n",
    "                         download=False)"
   ]
  },
  {
   "cell_type": "code",
   "execution_count": 8,
   "id": "18e3df24",
   "metadata": {
    "scrolled": false
   },
   "outputs": [
    {
     "name": "stdout",
     "output_type": "stream",
     "text": [
      "tensor(-1.)\n",
      "tensor(1.)\n"
     ]
    }
   ],
   "source": [
    "print(mnist_train[0][0].squeeze().min())\n",
    "print(mnist_train[0][0].squeeze().max())"
   ]
  },
  {
   "cell_type": "code",
   "execution_count": 7,
   "id": "596c6924",
   "metadata": {},
   "outputs": [
    {
     "data": {
      "image/png": "[encoded data removed]",
      "text/plain": [
       "<Figure size 576x576 with 9 Axes>"
      ]
     },
     "metadata": {
      "needs_background": "light"
     },
     "output_type": "display_data"
    }
   ],
   "source": [
    "figure = plt.figure(figsize=(8, 8))\n",
    "cols, rows = 3, 3\n",
    "for i in range(1, cols * rows + 1):\n",
    "    sample_idx = torch.randint(len(mnist_train), size=(1,)).item()\n",
    "    img, label = mnist_train[sample_idx]\n",
    "    figure.add_subplot(rows, cols, i)\n",
    "    plt.axis(\"off\") # x축, y축 안보이게 설정\n",
    "    plt.imshow(img.squeeze(), cmap=\"gray\")\n",
    "plt.show() "
   ]
  },
  {
   "cell_type": "code",
   "execution_count": 454,
   "id": "125409e5",
   "metadata": {},
   "outputs": [
    {
     "name": "stdout",
     "output_type": "stream",
     "text": [
      "train_x:  0.0 % done\n",
      "train_x:  10.0 % done\n",
      "train_x:  20.0 % done\n",
      "train_x:  30.0 % done\n",
      "train_x:  40.0 % done\n",
      "train_x:  50.0 % done\n",
      "train_x:  60.0 % done\n",
      "train_x:  70.0 % done\n",
      "train_x:  80.0 % done\n",
      "train_x:  90.0 % done\n",
      "train_Y:  0.0 % done\n",
      "train_Y:  10.0 % done\n",
      "train_Y:  20.0 % done\n",
      "train_Y:  30.0 % done\n",
      "train_Y:  40.0 % done\n",
      "train_Y:  50.0 % done\n",
      "train_Y:  60.0 % done\n",
      "train_Y:  70.0 % done\n",
      "train_Y:  80.0 % done\n",
      "train_Y:  90.0 % done\n"
     ]
    }
   ],
   "source": [
    "# 14*14\n",
    "train_xx = dsets.MNIST(root='data/',\n",
    "                         train=True, \n",
    "                         transform = transforms.Compose([\n",
    "                                    transforms.ToTensor(),\n",
    "                                    transforms.Normalize(mean=[0.5], # 1 for gray scale 만약, RGB channels라면 mean=(0.5, 0.5, 0.5)\n",
    "                                                         std=[0.5]),\n",
    "                                    transforms.FiveCrop(size=(14,14))]) ,\n",
    "                         download=False)\n",
    "\n",
    "train_x = torch.zeros([60000,1,14,14])\n",
    "for i in range(len(mnist_train)):\n",
    "    temp = train_xx[i][0][3]\n",
    "    train_x[i] = temp\n",
    "    if i % 6000 == 0:\n",
    "        print(\"train_x: \",((i)/6000)*10,\"% done\")\n",
    "\n",
    "print(\"-\"*20)\n",
    "# 28*28\n",
    "train_Y = torch.zeros([60000,1,28,28])\n",
    "\n",
    "for i in range(len(mnist_train)):\n",
    "    temp = mnist_train[i][0]\n",
    "    temp[:,14:,14:] = 0\n",
    "    train_Y[i] = temp\n",
    "    if i % 6000 == 0:\n",
    "        print(\"train_Y: \",((i)/6000)*10,\"% done\")"
   ]
  },
  {
   "cell_type": "code",
   "execution_count": 455,
   "id": "945a4538",
   "metadata": {},
   "outputs": [
    {
     "data": {
      "image/png": "[encoded data removed]",
      "text/plain": [
       "<Figure size 432x288 with 1 Axes>"
      ]
     },
     "metadata": {
      "needs_background": "light"
     },
     "output_type": "display_data"
    }
   ],
   "source": [
    "imshow(mnist_train[0][0])"
   ]
  },
  {
   "cell_type": "code",
   "execution_count": 456,
   "id": "45c3209b",
   "metadata": {},
   "outputs": [
    {
     "data": {
      "image/png": "[encoded data removed]",
      "text/plain": [
       "<Figure size 432x288 with 1 Axes>"
      ]
     },
     "metadata": {
      "needs_background": "light"
     },
     "output_type": "display_data"
    },
    {
     "name": "stdout",
     "output_type": "stream",
     "text": [
      "torch.Size([1, 28, 28])\n"
     ]
    }
   ],
   "source": [
    "imshow(train_Y[0])\n",
    "print(train_Y[0].size())"
   ]
  },
  {
   "cell_type": "code",
   "execution_count": 458,
   "id": "757b9e4c",
   "metadata": {},
   "outputs": [
    {
     "data": {
      "image/png": "[encoded data removed]",
      "text/plain": [
       "<Figure size 432x288 with 1 Axes>"
      ]
     },
     "metadata": {
      "needs_background": "light"
     },
     "output_type": "display_data"
    },
    {
     "name": "stdout",
     "output_type": "stream",
     "text": [
      "torch.Size([1, 14, 14])\n"
     ]
    }
   ],
   "source": [
    "imshow(train_x[0]) # cropped images\n",
    "print(train_x[0].size())"
   ]
  },
  {
   "cell_type": "code",
   "execution_count": 495,
   "id": "66bda651",
   "metadata": {},
   "outputs": [],
   "source": [
    "class CustomImageDataset(Dataset):\n",
    "    def __init__(self,x,Y):\n",
    "        self.x = x\n",
    "        self.Y = Y\n",
    "        \n",
    "    def __len__(self):\n",
    "        return len(self.x)\n",
    "\n",
    "    def __getitem__(self, idx):\n",
    "        x = self.x\n",
    "        Y = self.Y\n",
    "        return x[idx], Y[idx]"
   ]
  },
  {
   "cell_type": "code",
   "execution_count": 496,
   "id": "a68cf2e6",
   "metadata": {},
   "outputs": [],
   "source": [
    "trainset = CustomImageDataset(train_x,train_Y)"
   ]
  },
  {
   "cell_type": "code",
   "execution_count": 500,
   "id": "61376a83",
   "metadata": {
    "scrolled": false
   },
   "outputs": [
    {
     "data": {
      "image/png": "[encoded data removed]",
      "text/plain": [
       "<Figure size 432x288 with 1 Axes>"
      ]
     },
     "metadata": {
      "needs_background": "light"
     },
     "output_type": "display_data"
    },
    {
     "data": {
      "image/png": "[encoded data removed]",
      "text/plain": [
       "<Figure size 432x288 with 1 Axes>"
      ]
     },
     "metadata": {
      "needs_background": "light"
     },
     "output_type": "display_data"
    }
   ],
   "source": [
    "imshow(trainset.__getitem__(2)[0])\n",
    "imshow(trainset.__getitem__(2)[1])\n"
   ]
  },
  {
   "cell_type": "code",
   "execution_count": 501,
   "id": "2020d4a5",
   "metadata": {},
   "outputs": [],
   "source": [
    "# 데이터 로더\n",
    "data_loader = torch.utils.data.DataLoader(dataset=trainset, # 훈련용 데이터 로딩\n",
    "                                          batch_size=batch_size,\n",
    "                                          shuffle=True) # 에폭마다 데이터 섞기"
   ]
  },
  {
   "cell_type": "code",
   "execution_count": 518,
   "id": "554bf3e4",
   "metadata": {
    "scrolled": false
   },
   "outputs": [
    {
     "name": "stdout",
     "output_type": "stream",
     "text": [
      "torch.Size([100, 1, 14, 14])\n",
      "torch.Size([100, 1, 28, 28])\n"
     ]
    },
    {
     "data": {
      "image/png": "[encoded data removed]",
      "text/plain": [
       "<Figure size 432x288 with 1 Axes>"
      ]
     },
     "metadata": {
      "needs_background": "light"
     },
     "output_type": "display_data"
    },
    {
     "data": {
      "image/png": "[encoded data removed]",
      "text/plain": [
       "<Figure size 432x288 with 1 Axes>"
      ]
     },
     "metadata": {
      "needs_background": "light"
     },
     "output_type": "display_data"
    }
   ],
   "source": [
    "# check the data_loader \n",
    "\n",
    "for x,Y in data_loader:\n",
    "    print(x.size())\n",
    "    print(Y.size())\n",
    "    imshow(x[1])\n",
    "    imshow(Y[1])\n",
    "    break"
   ]
  },
  {
   "cell_type": "code",
   "execution_count": 521,
   "id": "e2bf9f2e",
   "metadata": {},
   "outputs": [],
   "source": [
    "class Discriminator(nn.Module):\n",
    "    def __init__(self):\n",
    "        super(Discriminator, self).__init__()\n",
    "        self.D1 = nn.Sequential(\n",
    "            nn.Conv2d(1,64,5,2,padding=1), # [100, 64, 13, 13]\n",
    "            nn.BatchNorm2d(64),\n",
    "            nn.LeakyReLU(0.2),\n",
    "            nn.Conv2d(64,128,4,1,padding=1), # [100, 128, 12, 12]\n",
    "            nn.BatchNorm2d(128),\n",
    "            nn.LeakyReLU(0.2),\n",
    "            nn.Flatten(1) # [100, 18432]\n",
    "            )\n",
    "        self.D2 = nn.Sequential(\n",
    "            nn.Conv2d(1,32,5,2,padding=1), \n",
    "            nn.BatchNorm2d(32),\n",
    "            nn.LeakyReLU(0.2),\n",
    "            nn.Conv2d(32,64,5,2,padding=1), \n",
    "            nn.BatchNorm2d(64),\n",
    "            nn.LeakyReLU(0.2),\n",
    "            nn.Flatten(1) # [100, 256]\n",
    "            )\n",
    "        self.D3 = nn.Sequential(\n",
    "            nn.Linear(18688,128), \n",
    "            nn.BatchNorm1d(128),\n",
    "            nn.LeakyReLU(0.2),\n",
    "            nn.Linear(128,64),\n",
    "            nn.BatchNorm1d(64),\n",
    "            nn.LeakyReLU(0.2),\n",
    "            nn.Linear(64,1) # [100, 1]\n",
    "            )\n",
    "    def forward(self,X,y):\n",
    "        disc_X = self.D1(X)\n",
    "        disc_y = self.D2(y)\n",
    "        Dout1 = torch.concat((disc_X,disc_y),1)\n",
    "        Dout2 = self.D3(Dout1)\n",
    "        \n",
    "        return Dout2"
   ]
  },
  {
   "cell_type": "code",
   "execution_count": 522,
   "id": "75970b4c",
   "metadata": {},
   "outputs": [
    {
     "name": "stdout",
     "output_type": "stream",
     "text": [
      "Discriminator(\n",
      "  (D1): Sequential(\n",
      "    (0): Conv2d(1, 64, kernel_size=(5, 5), stride=(2, 2), padding=(1, 1))\n",
      "    (1): BatchNorm2d(64, eps=1e-05, momentum=0.1, affine=True, track_running_stats=True)\n",
      "    (2): LeakyReLU(negative_slope=0.2)\n",
      "    (3): Conv2d(64, 128, kernel_size=(4, 4), stride=(1, 1), padding=(1, 1))\n",
      "    (4): BatchNorm2d(128, eps=1e-05, momentum=0.1, affine=True, track_running_stats=True)\n",
      "    (5): LeakyReLU(negative_slope=0.2)\n",
      "    (6): Flatten(start_dim=1, end_dim=-1)\n",
      "  )\n",
      "  (D2): Sequential(\n",
      "    (0): Conv2d(1, 32, kernel_size=(5, 5), stride=(2, 2), padding=(1, 1))\n",
      "    (1): BatchNorm2d(32, eps=1e-05, momentum=0.1, affine=True, track_running_stats=True)\n",
      "    (2): LeakyReLU(negative_slope=0.2)\n",
      "    (3): Conv2d(32, 64, kernel_size=(5, 5), stride=(2, 2), padding=(1, 1))\n",
      "    (4): BatchNorm2d(64, eps=1e-05, momentum=0.1, affine=True, track_running_stats=True)\n",
      "    (5): LeakyReLU(negative_slope=0.2)\n",
      "    (6): Flatten(start_dim=1, end_dim=-1)\n",
      "  )\n",
      "  (D3): Sequential(\n",
      "    (0): Linear(in_features=18688, out_features=128, bias=True)\n",
      "    (1): BatchNorm1d(128, eps=1e-05, momentum=0.1, affine=True, track_running_stats=True)\n",
      "    (2): LeakyReLU(negative_slope=0.2)\n",
      "    (3): Linear(in_features=128, out_features=64, bias=True)\n",
      "    (4): BatchNorm1d(64, eps=1e-05, momentum=0.1, affine=True, track_running_stats=True)\n",
      "    (5): LeakyReLU(negative_slope=0.2)\n",
      "    (6): Linear(in_features=64, out_features=1, bias=True)\n",
      "  )\n",
      ")\n"
     ]
    }
   ],
   "source": [
    "print(D)"
   ]
  },
  {
   "cell_type": "code",
   "execution_count": 179,
   "id": "8c3e65b0",
   "metadata": {},
   "outputs": [],
   "source": [
    "class Generator(nn.Module):\n",
    "    def __init__(self):\n",
    "        super(Generator, self).__init__()\n",
    "        self.G1 = nn.Sequential(\n",
    "            nn.Flatten(1), # \n",
    "            nn.Linear(784, 128), # 100*128\n",
    "            nn.BatchNorm1d(128), # 100*128\n",
    "            nn.LeakyReLU(0.2)) # 100*128\n",
    "\n",
    "        self.G2 = nn.Sequential(\n",
    "            nn.ConvTranspose2d(228,256,kernel_size=(7,7),stride=(1,1),padding=0), # [100, 256, 7, 7]\n",
    "            nn.BatchNorm2d(256), # \n",
    "            nn.LeakyReLU(0.2), # [100, 256, 7, 7]\n",
    "            nn.ConvTranspose2d(256,128,kernel_size=(5,5),stride=(2,2),padding=2,output_padding =1), # [100, 128, 14, 14]\n",
    "            nn.BatchNorm2d(128), # \n",
    "            nn.LeakyReLU(0.2),#\n",
    "            nn.ConvTranspose2d(128,1,kernel_size=(5,5),stride=(1,1),padding=2), # [100, 1, 14, 14] -> should be matched with size of y.\n",
    "            nn.ReLU()# [100, 1, 14, 14]\n",
    "            )\n",
    "\n",
    "    def forward(self,X,eta_dist=\"Normal\",eta_dim=100):\n",
    "        # random error part\n",
    "        if eta_dist == \"Normal\":\n",
    "            eta = torch.randn(X.size()[0], eta_dim, device=device) # X.size()[0] :batch_size\n",
    "\n",
    "        elif eta_dist == \"Unif\":\n",
    "            eta = torch.rand(X.size()[0], eta_dim, device=device)\n",
    "\n",
    "        else :\n",
    "            raise Exception(\"Please specify the correct distribution. Normal or Unif\")\n",
    "\n",
    "        # construcnt the full model\n",
    "        Gout1 = self.G1(X)\n",
    "        Gout2 = torch.concat((Gout1,eta),1).resize(X.size()[0],(128 + eta_dim),1,1)\n",
    "        Gout3 = self.G2(Gout2)\n",
    "    \n",
    "        return Gout3"
   ]
  },
  {
   "cell_type": "code",
   "execution_count": 180,
   "id": "329386c2",
   "metadata": {},
   "outputs": [
    {
     "name": "stdout",
     "output_type": "stream",
     "text": [
      "Generator(\n",
      "  (G1): Sequential(\n",
      "    (0): Flatten(start_dim=1, end_dim=-1)\n",
      "    (1): Linear(in_features=784, out_features=128, bias=True)\n",
      "    (2): BatchNorm1d(128, eps=1e-05, momentum=0.1, affine=True, track_running_stats=True)\n",
      "    (3): LeakyReLU(negative_slope=0.2)\n",
      "  )\n",
      "  (G2): Sequential(\n",
      "    (0): ConvTranspose2d(228, 256, kernel_size=(7, 7), stride=(1, 1))\n",
      "    (1): BatchNorm2d(256, eps=1e-05, momentum=0.1, affine=True, track_running_stats=True)\n",
      "    (2): LeakyReLU(negative_slope=0.2)\n",
      "    (3): ConvTranspose2d(256, 128, kernel_size=(5, 5), stride=(2, 2), padding=(2, 2), output_padding=(1, 1))\n",
      "    (4): BatchNorm2d(128, eps=1e-05, momentum=0.1, affine=True, track_running_stats=True)\n",
      "    (5): LeakyReLU(negative_slope=0.2)\n",
      "    (6): ConvTranspose2d(128, 1, kernel_size=(5, 5), stride=(1, 1), padding=(2, 2))\n",
      "    (7): ReLU()\n",
      "  )\n",
      ")\n"
     ]
    }
   ],
   "source": [
    "print(G)"
   ]
  },
  {
   "cell_type": "code",
   "execution_count": 197,
   "id": "133d7a83",
   "metadata": {},
   "outputs": [
    {
     "name": "stdout",
     "output_type": "stream",
     "text": [
      "torch.Size([100, 1, 28, 28])\n",
      "torch.Size([100, 1, 14, 14])\n",
      "cuda:0\n"
     ]
    }
   ],
   "source": [
    "# Generator check\n",
    "for batch_image,batch_label in data_loader:\n",
    "    print(batch_image.size())\n",
    "    G = Generator().to(device)\n",
    "    out = G(X=batch_image.to(device),eta_dist=\"Normal\",eta_dim=100)\n",
    "    print(out.size())\n",
    "    print(out.device)\n",
    "    break"
   ]
  },
  {
   "cell_type": "code",
   "execution_count": 523,
   "id": "65358a7c",
   "metadata": {},
   "outputs": [
    {
     "name": "stdout",
     "output_type": "stream",
     "text": [
      "torch.Size([100, 1])\n",
      "cuda:0\n"
     ]
    }
   ],
   "source": [
    "# Discriminator check\n",
    "disc_X = torch.randn(100,1,28,28).to(device)\n",
    "disc_y = torch.randn(100,1,14,14).to(device)\n",
    "\n",
    "D = Discriminator().to(device)\n",
    "out = D(disc_X,disc_y)\n",
    "print(out.size())\n",
    "print(out.device)"
   ]
  },
  {
   "cell_type": "code",
   "execution_count": 524,
   "id": "96a886b9",
   "metadata": {},
   "outputs": [],
   "source": [
    "def imshow(img):\n",
    "    img = (img+1) / 2\n",
    "    img = img.squeeze() # 차원 중 사이즈 1 을 제거\n",
    "    np_img = img.numpy() # 이미지 픽셀을 넘파이 배열로 변환\n",
    "    plt.imshow(np_img,cmap='gray')\n",
    "    plt.show()\n",
    "\n",
    "def imshow_grid(img): \n",
    "    img = utils.make_grid(img.cpu().detach()) # 이미지 그리드 생성, 이미지 출력만을 위해 cpu에 담고 추적 방이\n",
    "    img = (img+1)/2\n",
    "    npimg = img.numpy() # 이미지 픽셀을 넘파이 배열로 변환\n",
    "    plt.imshow(np.transpose(npimg, (1,2,0)))\n",
    "    plt.show()"
   ]
  },
  {
   "cell_type": "code",
   "execution_count": 525,
   "id": "8b12b990",
   "metadata": {},
   "outputs": [
    {
     "name": "stderr",
     "output_type": "stream",
     "text": [
      "C:\\Users\\user\\.conda\\envs\\torch\\lib\\site-packages\\torch\\_tensor.py:549: UserWarning: non-inplace resize is deprecated\n",
      "  warnings.warn(\"non-inplace resize is deprecated\")\n"
     ]
    },
    {
     "data": {
      "image/png": "[encoded data removed]",
      "text/plain": [
       "<Figure size 432x288 with 1 Axes>"
      ]
     },
     "metadata": {
      "needs_background": "light"
     },
     "output_type": "display_data"
    }
   ],
   "source": [
    "# visualizing the generator image\n",
    "\n",
    "rand = torch.randn(2,1, 28,28, device=device)\n",
    "img_1 = G(rand)[0]\n",
    "imshow(img_1.squeeze().cpu().detach())"
   ]
  },
  {
   "cell_type": "code",
   "execution_count": null,
   "id": "dfd77ef6",
   "metadata": {},
   "outputs": [],
   "source": [
    "# loss function 직접 구현하기"
   ]
  },
  {
   "cell_type": "code",
   "execution_count": null,
   "id": "a6756d14",
   "metadata": {},
   "outputs": [],
   "source": []
  },
  {
   "cell_type": "code",
   "execution_count": 526,
   "id": "5d64b362",
   "metadata": {},
   "outputs": [],
   "source": [
    "# Defince the fenchel conjugacy loss \n",
    "\n",
    "def disc_loss(output,label): # label : 1 for real, -1 for fake\n",
    "    loss = - torch.mean( output * (label - 1) * (-1.0/2.0) - torch.exp(output) * (label + 1) * (1.0/2.0) )\n",
    "    return loss\n",
    "\n",
    "def gen_loss(output,label): # all labels are -1.(all fake data)\n",
    "    loss = torch.mean(output)*(-label)\n",
    "    return loss"
   ]
  },
  {
   "cell_type": "code",
   "execution_count": 527,
   "id": "0dd73553",
   "metadata": {
    "scrolled": false
   },
   "outputs": [
    {
     "name": "stdout",
     "output_type": "stream",
     "text": [
      "0 : tensor(-0.0021, device='cuda:0', grad_fn=<NegBackward0>)\n",
      "0 : [-0.04616360366344452]\n",
      "20 : tensor(-0.4284, device='cuda:0', grad_fn=<NegBackward0>)\n",
      "20 : [0.5925971269607544]\n",
      "40 : tensor(-0.5429, device='cuda:0', grad_fn=<NegBackward0>)\n",
      "40 : [0.7572144865989685]\n",
      "60 : tensor(-0.6089, device='cuda:0', grad_fn=<NegBackward0>)\n",
      "60 : [0.7860385179519653]\n",
      "80 : tensor(-0.6514, device='cuda:0', grad_fn=<NegBackward0>)\n",
      "80 : [0.8181836009025574]\n",
      "100 : tensor(-0.6826, device='cuda:0', grad_fn=<NegBackward0>)\n",
      "100 : [0.8258830308914185]\n",
      "120 : tensor(-0.7077, device='cuda:0', grad_fn=<NegBackward0>)\n",
      "120 : [0.8367301225662231]\n",
      "140 : tensor(-0.7278, device='cuda:0', grad_fn=<NegBackward0>)\n",
      "140 : [0.848783016204834]\n",
      "160 : tensor(-0.7447, device='cuda:0', grad_fn=<NegBackward0>)\n",
      "160 : [0.8334851861000061]\n",
      "180 : tensor(-0.7597, device='cuda:0', grad_fn=<NegBackward0>)\n",
      "180 : [0.8505213260650635]\n"
     ]
    },
    {
     "data": {
      "text/plain": [
       "[<matplotlib.lines.Line2D at 0x159e1c09730>]"
      ]
     },
     "execution_count": 527,
     "metadata": {},
     "output_type": "execute_result"
    },
    {
     "data": {
      "image/png": "[encoded data removed]",
      "text/plain": [
       "<Figure size 432x288 with 1 Axes>"
      ]
     },
     "metadata": {
      "needs_background": "light"
     },
     "output_type": "display_data"
    }
   ],
   "source": [
    "# Discriminator check\n",
    "import numpy as np\n",
    "labels = torch.from_numpy(np.array(([1]*100))).to(device)\n",
    "D = Discriminator().to(device)\n",
    "d_optimizer = torch.optim.Adam(D.parameters(), lr=0.00002)\n",
    "loss_lst = []\n",
    "out_lst = []\n",
    "for a in range(200):\n",
    "    out = D(disc_X,disc_y)\n",
    "    d_loss = disc_loss(out,label=-labels)\n",
    "    d_optimizer.zero_grad()\n",
    "    d_loss.backward()\n",
    "    d_optimizer.step()\n",
    "    loss_lst.append(d_loss.tolist())\n",
    "    out_lst.append(out[1].tolist())\n",
    "    if a % 20 ==0:\n",
    "        print(a, \":\", d_loss)\n",
    "        print(a, \":\", out[1].tolist())\n",
    "\n",
    "plt.plot(loss_lst,\"b\")\n",
    "plt.plot(out_lst,\"r\")"
   ]
  },
  {
   "cell_type": "code",
   "execution_count": null,
   "id": "7699d59b",
   "metadata": {},
   "outputs": [],
   "source": []
  },
  {
   "cell_type": "code",
   "execution_count": 528,
   "id": "6fa5b0e4",
   "metadata": {},
   "outputs": [
    {
     "name": "stdout",
     "output_type": "stream",
     "text": [
      "0 : tensor(0.7029, device='cuda:0', grad_fn=<MulBackward0>)\n",
      "0 : [0.7828148603439331]\n",
      "0 : tensor(-0.0153, device='cuda:0')\n",
      "20 : tensor(0.6024, device='cuda:0', grad_fn=<MulBackward0>)\n",
      "20 : [0.6007738709449768]\n",
      "20 : tensor(-0.0153, device='cuda:0')\n",
      "40 : tensor(0.5613, device='cuda:0', grad_fn=<MulBackward0>)\n",
      "40 : [0.5612591505050659]\n",
      "40 : tensor(-0.0153, device='cuda:0')\n",
      "60 : tensor(0.5366, device='cuda:0', grad_fn=<MulBackward0>)\n",
      "60 : [0.5592505931854248]\n",
      "60 : tensor(-0.0153, device='cuda:0')\n",
      "80 : tensor(0.5198, device='cuda:0', grad_fn=<MulBackward0>)\n",
      "80 : [0.5710902214050293]\n",
      "80 : tensor(-0.0153, device='cuda:0')\n",
      "100 : tensor(0.5076, device='cuda:0', grad_fn=<MulBackward0>)\n",
      "100 : [0.5802996754646301]\n",
      "100 : tensor(-0.0153, device='cuda:0')\n",
      "120 : tensor(0.4991, device='cuda:0', grad_fn=<MulBackward0>)\n",
      "120 : [0.5692350268363953]\n",
      "120 : tensor(-0.0153, device='cuda:0')\n",
      "140 : tensor(0.4926, device='cuda:0', grad_fn=<MulBackward0>)\n",
      "140 : [0.6027345657348633]\n",
      "140 : tensor(-0.0153, device='cuda:0')\n",
      "160 : tensor(0.4875, device='cuda:0', grad_fn=<MulBackward0>)\n",
      "160 : [0.5988630056381226]\n",
      "160 : tensor(-0.0153, device='cuda:0')\n",
      "180 : tensor(0.4831, device='cuda:0', grad_fn=<MulBackward0>)\n",
      "180 : [0.5902149081230164]\n",
      "180 : tensor(-0.0153, device='cuda:0')\n"
     ]
    },
    {
     "data": {
      "image/png": "[encoded data removed]",
      "text/plain": [
       "<Figure size 432x288 with 1 Axes>"
      ]
     },
     "metadata": {
      "needs_background": "light"
     },
     "output_type": "display_data"
    }
   ],
   "source": [
    "# Generator check\n",
    "\n",
    "G = Generator().to(device)\n",
    "g_optimizer = torch.optim.Adam(G.parameters(), lr=0.0002)\n",
    "loss_lst = []\n",
    "out_lst = []\n",
    "for a in range(200):\n",
    "    Gout = G(X=batch_image.to(device),eta_dist=\"Normal\",eta_dim=100)\n",
    "    DGout = D(disc_X,Gout) # freeze the weight is necessary ??\n",
    "    \n",
    "    g_loss = gen_loss(DGout,label=-1) # labels are always -1 for G.\n",
    "    g_optimizer.zero_grad()\n",
    "    g_loss.backward()\n",
    "    g_optimizer.step()\n",
    "    loss_lst.append(g_loss.tolist())\n",
    "    out_lst.append(DGout[1].tolist())\n",
    "    if a % 20 ==0:\n",
    "        print(a, \":\", g_loss)\n",
    "        print(a, \":\", DGout[1].tolist())\n",
    "        print(a, \":\",D.state_dict()['D1.0.weight'][0,0,0,1]) # no update\n",
    "\n",
    "plt.plot(loss_lst,\"b\")\n",
    "# plt.title(\"loss\")\n",
    "# plt.show()\n",
    "plt.plot(out_lst,\"r\")\n",
    "#plt.title(\"D(X,G(eta,x))\")\n",
    "plt.show()"
   ]
  },
  {
   "cell_type": "code",
   "execution_count": 529,
   "id": "ff80ba7a",
   "metadata": {},
   "outputs": [
    {
     "ename": "RuntimeError",
     "evalue": "mat1 and mat2 shapes cannot be multiplied (100x5504 and 18688x128)",
     "output_type": "error",
     "traceback": [
      "\u001b[1;31m---------------------------------------------------------------------------\u001b[0m",
      "\u001b[1;31mRuntimeError\u001b[0m                              Traceback (most recent call last)",
      "\u001b[1;32m~\\AppData\\Local\\Temp/ipykernel_49132/2340583929.py\u001b[0m in \u001b[0;36m<module>\u001b[1;34m\u001b[0m\n\u001b[0;32m     28\u001b[0m         \u001b[1;31m# Compute Loss using real images where custom_loss(x, y)\u001b[0m\u001b[1;33m\u001b[0m\u001b[1;33m\u001b[0m\u001b[0m\n\u001b[0;32m     29\u001b[0m \u001b[1;33m\u001b[0m\u001b[0m\n\u001b[1;32m---> 30\u001b[1;33m         \u001b[0mDout\u001b[0m \u001b[1;33m=\u001b[0m \u001b[0mD\u001b[0m\u001b[1;33m(\u001b[0m\u001b[0mx\u001b[0m\u001b[1;33m,\u001b[0m\u001b[0mY\u001b[0m\u001b[1;33m)\u001b[0m\u001b[1;33m\u001b[0m\u001b[1;33m\u001b[0m\u001b[0m\n\u001b[0m\u001b[0;32m     31\u001b[0m         \u001b[0md_loss_real\u001b[0m \u001b[1;33m=\u001b[0m \u001b[0mdisc_loss\u001b[0m\u001b[1;33m(\u001b[0m\u001b[0mDout\u001b[0m\u001b[1;33m,\u001b[0m\u001b[0mreal_labels\u001b[0m\u001b[1;33m)\u001b[0m\u001b[1;33m\u001b[0m\u001b[1;33m\u001b[0m\u001b[0m\n\u001b[0;32m     32\u001b[0m         \u001b[0mreal_score\u001b[0m \u001b[1;33m=\u001b[0m \u001b[0mDout\u001b[0m\u001b[1;33m\u001b[0m\u001b[1;33m\u001b[0m\u001b[0m\n",
      "\u001b[1;32m~\\.conda\\envs\\torch\\lib\\site-packages\\torch\\nn\\modules\\module.py\u001b[0m in \u001b[0;36m_call_impl\u001b[1;34m(self, *input, **kwargs)\u001b[0m\n\u001b[0;32m   1108\u001b[0m         if not (self._backward_hooks or self._forward_hooks or self._forward_pre_hooks or _global_backward_hooks\n\u001b[0;32m   1109\u001b[0m                 or _global_forward_hooks or _global_forward_pre_hooks):\n\u001b[1;32m-> 1110\u001b[1;33m             \u001b[1;32mreturn\u001b[0m \u001b[0mforward_call\u001b[0m\u001b[1;33m(\u001b[0m\u001b[1;33m*\u001b[0m\u001b[0minput\u001b[0m\u001b[1;33m,\u001b[0m \u001b[1;33m**\u001b[0m\u001b[0mkwargs\u001b[0m\u001b[1;33m)\u001b[0m\u001b[1;33m\u001b[0m\u001b[1;33m\u001b[0m\u001b[0m\n\u001b[0m\u001b[0;32m   1111\u001b[0m         \u001b[1;31m# Do not call functions when jit is used\u001b[0m\u001b[1;33m\u001b[0m\u001b[1;33m\u001b[0m\u001b[0m\n\u001b[0;32m   1112\u001b[0m         \u001b[0mfull_backward_hooks\u001b[0m\u001b[1;33m,\u001b[0m \u001b[0mnon_full_backward_hooks\u001b[0m \u001b[1;33m=\u001b[0m \u001b[1;33m[\u001b[0m\u001b[1;33m]\u001b[0m\u001b[1;33m,\u001b[0m \u001b[1;33m[\u001b[0m\u001b[1;33m]\u001b[0m\u001b[1;33m\u001b[0m\u001b[1;33m\u001b[0m\u001b[0m\n",
      "\u001b[1;32m~\\AppData\\Local\\Temp/ipykernel_49132/2836026077.py\u001b[0m in \u001b[0;36mforward\u001b[1;34m(self, X, y)\u001b[0m\n\u001b[0;32m     33\u001b[0m         \u001b[0mdisc_y\u001b[0m \u001b[1;33m=\u001b[0m \u001b[0mself\u001b[0m\u001b[1;33m.\u001b[0m\u001b[0mD2\u001b[0m\u001b[1;33m(\u001b[0m\u001b[0my\u001b[0m\u001b[1;33m)\u001b[0m\u001b[1;33m\u001b[0m\u001b[1;33m\u001b[0m\u001b[0m\n\u001b[0;32m     34\u001b[0m         \u001b[0mDout1\u001b[0m \u001b[1;33m=\u001b[0m \u001b[0mtorch\u001b[0m\u001b[1;33m.\u001b[0m\u001b[0mconcat\u001b[0m\u001b[1;33m(\u001b[0m\u001b[1;33m(\u001b[0m\u001b[0mdisc_X\u001b[0m\u001b[1;33m,\u001b[0m\u001b[0mdisc_y\u001b[0m\u001b[1;33m)\u001b[0m\u001b[1;33m,\u001b[0m\u001b[1;36m1\u001b[0m\u001b[1;33m)\u001b[0m\u001b[1;33m\u001b[0m\u001b[1;33m\u001b[0m\u001b[0m\n\u001b[1;32m---> 35\u001b[1;33m         \u001b[0mDout2\u001b[0m \u001b[1;33m=\u001b[0m \u001b[0mself\u001b[0m\u001b[1;33m.\u001b[0m\u001b[0mD3\u001b[0m\u001b[1;33m(\u001b[0m\u001b[0mDout1\u001b[0m\u001b[1;33m)\u001b[0m\u001b[1;33m\u001b[0m\u001b[1;33m\u001b[0m\u001b[0m\n\u001b[0m\u001b[0;32m     36\u001b[0m \u001b[1;33m\u001b[0m\u001b[0m\n\u001b[0;32m     37\u001b[0m         \u001b[1;32mreturn\u001b[0m \u001b[0mDout2\u001b[0m\u001b[1;33m\u001b[0m\u001b[1;33m\u001b[0m\u001b[0m\n",
      "\u001b[1;32m~\\.conda\\envs\\torch\\lib\\site-packages\\torch\\nn\\modules\\module.py\u001b[0m in \u001b[0;36m_call_impl\u001b[1;34m(self, *input, **kwargs)\u001b[0m\n\u001b[0;32m   1108\u001b[0m         if not (self._backward_hooks or self._forward_hooks or self._forward_pre_hooks or _global_backward_hooks\n\u001b[0;32m   1109\u001b[0m                 or _global_forward_hooks or _global_forward_pre_hooks):\n\u001b[1;32m-> 1110\u001b[1;33m             \u001b[1;32mreturn\u001b[0m \u001b[0mforward_call\u001b[0m\u001b[1;33m(\u001b[0m\u001b[1;33m*\u001b[0m\u001b[0minput\u001b[0m\u001b[1;33m,\u001b[0m \u001b[1;33m**\u001b[0m\u001b[0mkwargs\u001b[0m\u001b[1;33m)\u001b[0m\u001b[1;33m\u001b[0m\u001b[1;33m\u001b[0m\u001b[0m\n\u001b[0m\u001b[0;32m   1111\u001b[0m         \u001b[1;31m# Do not call functions when jit is used\u001b[0m\u001b[1;33m\u001b[0m\u001b[1;33m\u001b[0m\u001b[0m\n\u001b[0;32m   1112\u001b[0m         \u001b[0mfull_backward_hooks\u001b[0m\u001b[1;33m,\u001b[0m \u001b[0mnon_full_backward_hooks\u001b[0m \u001b[1;33m=\u001b[0m \u001b[1;33m[\u001b[0m\u001b[1;33m]\u001b[0m\u001b[1;33m,\u001b[0m \u001b[1;33m[\u001b[0m\u001b[1;33m]\u001b[0m\u001b[1;33m\u001b[0m\u001b[1;33m\u001b[0m\u001b[0m\n",
      "\u001b[1;32m~\\.conda\\envs\\torch\\lib\\site-packages\\torch\\nn\\modules\\container.py\u001b[0m in \u001b[0;36mforward\u001b[1;34m(self, input)\u001b[0m\n\u001b[0;32m    139\u001b[0m     \u001b[1;32mdef\u001b[0m \u001b[0mforward\u001b[0m\u001b[1;33m(\u001b[0m\u001b[0mself\u001b[0m\u001b[1;33m,\u001b[0m \u001b[0minput\u001b[0m\u001b[1;33m)\u001b[0m\u001b[1;33m:\u001b[0m\u001b[1;33m\u001b[0m\u001b[1;33m\u001b[0m\u001b[0m\n\u001b[0;32m    140\u001b[0m         \u001b[1;32mfor\u001b[0m \u001b[0mmodule\u001b[0m \u001b[1;32min\u001b[0m \u001b[0mself\u001b[0m\u001b[1;33m:\u001b[0m\u001b[1;33m\u001b[0m\u001b[1;33m\u001b[0m\u001b[0m\n\u001b[1;32m--> 141\u001b[1;33m             \u001b[0minput\u001b[0m \u001b[1;33m=\u001b[0m \u001b[0mmodule\u001b[0m\u001b[1;33m(\u001b[0m\u001b[0minput\u001b[0m\u001b[1;33m)\u001b[0m\u001b[1;33m\u001b[0m\u001b[1;33m\u001b[0m\u001b[0m\n\u001b[0m\u001b[0;32m    142\u001b[0m         \u001b[1;32mreturn\u001b[0m \u001b[0minput\u001b[0m\u001b[1;33m\u001b[0m\u001b[1;33m\u001b[0m\u001b[0m\n\u001b[0;32m    143\u001b[0m \u001b[1;33m\u001b[0m\u001b[0m\n",
      "\u001b[1;32m~\\.conda\\envs\\torch\\lib\\site-packages\\torch\\nn\\modules\\module.py\u001b[0m in \u001b[0;36m_call_impl\u001b[1;34m(self, *input, **kwargs)\u001b[0m\n\u001b[0;32m   1108\u001b[0m         if not (self._backward_hooks or self._forward_hooks or self._forward_pre_hooks or _global_backward_hooks\n\u001b[0;32m   1109\u001b[0m                 or _global_forward_hooks or _global_forward_pre_hooks):\n\u001b[1;32m-> 1110\u001b[1;33m             \u001b[1;32mreturn\u001b[0m \u001b[0mforward_call\u001b[0m\u001b[1;33m(\u001b[0m\u001b[1;33m*\u001b[0m\u001b[0minput\u001b[0m\u001b[1;33m,\u001b[0m \u001b[1;33m**\u001b[0m\u001b[0mkwargs\u001b[0m\u001b[1;33m)\u001b[0m\u001b[1;33m\u001b[0m\u001b[1;33m\u001b[0m\u001b[0m\n\u001b[0m\u001b[0;32m   1111\u001b[0m         \u001b[1;31m# Do not call functions when jit is used\u001b[0m\u001b[1;33m\u001b[0m\u001b[1;33m\u001b[0m\u001b[0m\n\u001b[0;32m   1112\u001b[0m         \u001b[0mfull_backward_hooks\u001b[0m\u001b[1;33m,\u001b[0m \u001b[0mnon_full_backward_hooks\u001b[0m \u001b[1;33m=\u001b[0m \u001b[1;33m[\u001b[0m\u001b[1;33m]\u001b[0m\u001b[1;33m,\u001b[0m \u001b[1;33m[\u001b[0m\u001b[1;33m]\u001b[0m\u001b[1;33m\u001b[0m\u001b[1;33m\u001b[0m\u001b[0m\n",
      "\u001b[1;32m~\\.conda\\envs\\torch\\lib\\site-packages\\torch\\nn\\modules\\linear.py\u001b[0m in \u001b[0;36mforward\u001b[1;34m(self, input)\u001b[0m\n\u001b[0;32m    101\u001b[0m \u001b[1;33m\u001b[0m\u001b[0m\n\u001b[0;32m    102\u001b[0m     \u001b[1;32mdef\u001b[0m \u001b[0mforward\u001b[0m\u001b[1;33m(\u001b[0m\u001b[0mself\u001b[0m\u001b[1;33m,\u001b[0m \u001b[0minput\u001b[0m\u001b[1;33m:\u001b[0m \u001b[0mTensor\u001b[0m\u001b[1;33m)\u001b[0m \u001b[1;33m->\u001b[0m \u001b[0mTensor\u001b[0m\u001b[1;33m:\u001b[0m\u001b[1;33m\u001b[0m\u001b[1;33m\u001b[0m\u001b[0m\n\u001b[1;32m--> 103\u001b[1;33m         \u001b[1;32mreturn\u001b[0m \u001b[0mF\u001b[0m\u001b[1;33m.\u001b[0m\u001b[0mlinear\u001b[0m\u001b[1;33m(\u001b[0m\u001b[0minput\u001b[0m\u001b[1;33m,\u001b[0m \u001b[0mself\u001b[0m\u001b[1;33m.\u001b[0m\u001b[0mweight\u001b[0m\u001b[1;33m,\u001b[0m \u001b[0mself\u001b[0m\u001b[1;33m.\u001b[0m\u001b[0mbias\u001b[0m\u001b[1;33m)\u001b[0m\u001b[1;33m\u001b[0m\u001b[1;33m\u001b[0m\u001b[0m\n\u001b[0m\u001b[0;32m    104\u001b[0m \u001b[1;33m\u001b[0m\u001b[0m\n\u001b[0;32m    105\u001b[0m     \u001b[1;32mdef\u001b[0m \u001b[0mextra_repr\u001b[0m\u001b[1;33m(\u001b[0m\u001b[0mself\u001b[0m\u001b[1;33m)\u001b[0m \u001b[1;33m->\u001b[0m \u001b[0mstr\u001b[0m\u001b[1;33m:\u001b[0m\u001b[1;33m\u001b[0m\u001b[1;33m\u001b[0m\u001b[0m\n",
      "\u001b[1;31mRuntimeError\u001b[0m: mat1 and mat2 shapes cannot be multiplied (100x5504 and 18688x128)"
     ]
    }
   ],
   "source": [
    "# training\n",
    "\n",
    "real_score = []\n",
    "fake_score = []\n",
    "gloss_list = []\n",
    "dloss_list = [] \n",
    "\n",
    "total_step = len(data_loader)\n",
    "D = Discriminator().to(device)\n",
    "G = Generator().to(device)\n",
    "\n",
    "d_optimizer = torch.optim.Adam(D.parameters(), lr=0.00002)\n",
    "g_optimizer = torch.optim.Adam(G.parameters(), lr=0.00002)\n",
    "\n",
    "for epoch in range(num_epochs):\n",
    "    for i, (x,Y) in enumerate(data_loader):\n",
    "        x = x.to(device)\n",
    "        Y = Y.to(device)\n",
    "        \n",
    "        # Create the labels which are later used as input for loss function\n",
    "        real_labels = torch.ones(batch_size, 1).to(device)\n",
    "        fake_labels = -torch.ones(batch_size, 1).to(device)\n",
    "\n",
    "        # ================================================================== #\n",
    "        #                      Train the discriminator                       #\n",
    "        # ================================================================== #\n",
    "\n",
    "        # Compute Loss using real images where custom_loss(x, y)\n",
    "        \n",
    "        Dout = D(x,Y)\n",
    "        d_loss_real = disc_loss(Dout,real_labels)\n",
    "        real_score = Dout\n",
    "        \n",
    "        # Compute Loss using fake images\n",
    "        \n",
    "        Gout = G(x,eta_dist=\"Normal\",eta_dim=100)\n",
    "        DGout = D(Gout)\n",
    "        d_loss_fake = disc_loss(DGout, fake_labels)\n",
    "        fake_score = DGout\n",
    "        \n",
    "        # Backprop and optimize\n",
    "        d_loss = d_loss_real + d_loss_fake\n",
    "        d_optimizer.zero_grad()\n",
    "        d_loss.backward()\n",
    "        d_optimizer.step()\n",
    "        \n",
    "        # ================================================================== #\n",
    "        #                        Train the generator                         #\n",
    "        # ================================================================== #\n",
    "    \n",
    "        # Compute loss with fake images\n",
    "        DGout2 = D(x,G(x,eta_dist=\"Normal\",eta_dim=100))\n",
    "\n",
    "        # Backprop and optimize\n",
    "        g_loss = gen_loss(outputs, fake_labels)\n",
    "        g_optimizer.zero_grad()\n",
    "        g_loss.backward()\n",
    "        g_optimizer.step()\n",
    "        \n",
    "        \n",
    "        if (i+1) % 100 == 0:\n",
    "            print('Epoch [{}/{}], Step [{}/{}], d_loss: {:.4f}, g_loss: {:.4f}, D(x): {:.2f}, D(G(z)): {:.2f}' \n",
    "                  .format(epoch, num_epochs, i+1, total_step, d_loss.item(), g_loss.item(), \n",
    "                          real_score.mean().item(), fake_score.mean().item()))\n",
    "            \n",
    "    real_score.append(real_score.mean().item())            \n",
    "    fake_score.append(fake_score.mean().item())\n",
    "    gloss_lst.append(g_loss.item())\n",
    "    dloss_lst.append(d_loss.item())\n",
    "    \n",
    "#     # real image 저장\n",
    "#     if (epoch+1) == 1:\n",
    "#         images = images.reshape(images.size(0), 1, 28, 28)\n",
    "#         save_image(denorm(images), os.path.join(sample_dir, 'real_images.png'))\n",
    "    \n",
    "#     # 생성된 이미지 저장\n",
    "#     fake_images = fake_images.reshape(fake_images.size(0), 1, 28, 28)\n",
    "#     save_image(denorm(fake_images), os.path.join(sample_dir, 'fake_images-{}.png'.format(epoch+1)))\n",
    "\n",
    "# 생성자, 판별자 각각 모델 저장\n",
    "torch.save(G.state_dict(), 'G.ckpt')\n",
    "torch.save(D.state_dict(), 'D.ckpt')"
   ]
  },
  {
   "cell_type": "code",
   "execution_count": null,
   "id": "16c76203",
   "metadata": {},
   "outputs": [],
   "source": []
  },
  {
   "cell_type": "code",
   "execution_count": null,
   "id": "2b267713",
   "metadata": {},
   "outputs": [],
   "source": []
  },
  {
   "cell_type": "code",
   "execution_count": null,
   "id": "adf751bd",
   "metadata": {},
   "outputs": [],
   "source": [
    "# plot    \n",
    "plt.figure(figsize = (12, 8))\n",
    "plt.xlabel('epoch')\n",
    "plt.ylabel('loss')\n",
    "x = np.arange(num_epochs)\n",
    "plt.plot(x, gloss_lst, 'g', label='D(x)')\n",
    "plt.plot(x, dloss_lst, 'b', label='D(G(z))')\n",
    "plt.legend()\n",
    "plt.show()"
   ]
  },
  {
   "cell_type": "code",
   "execution_count": null,
   "id": "70cb8802",
   "metadata": {},
   "outputs": [],
   "source": [
    "# plot    \n",
    "plt.figure(figsize = (12, 8))\n",
    "plt.xlabel('epoch')\n",
    "plt.ylabel('score')\n",
    "x = np.arange(num_epochs)\n",
    "plt.plot(x, real_score, 'g', label='D(x)')\n",
    "plt.plot(x, fake_score, 'b', label='D(G(z))')\n",
    "plt.legend()\n",
    "plt.show()"
   ]
  },
  {
   "cell_type": "code",
   "execution_count": null,
   "id": "14273101",
   "metadata": {},
   "outputs": [],
   "source": []
  },
  {
   "cell_type": "code",
   "execution_count": null,
   "id": "4d0117e3",
   "metadata": {},
   "outputs": [],
   "source": []
  },
  {
   "cell_type": "code",
   "execution_count": null,
   "id": "cdbe0789",
   "metadata": {},
   "outputs": [],
   "source": []
  },
  {
   "cell_type": "code",
   "execution_count": null,
   "id": "8dbb6307",
   "metadata": {},
   "outputs": [],
   "source": []
  },
  {
   "cell_type": "code",
   "execution_count": null,
   "id": "18e689af",
   "metadata": {},
   "outputs": [],
   "source": []
  },
  {
   "cell_type": "code",
   "execution_count": null,
   "id": "959e5b12",
   "metadata": {},
   "outputs": [],
   "source": []
  }
 ],
 "metadata": {
  "kernelspec": {
   "display_name": "torch",
   "language": "python",
   "name": "torch"
  },
  "language_info": {
   "codemirror_mode": {
    "name": "ipython",
    "version": 3
   },
   "file_extension": ".py",
   "mimetype": "text/x-python",
   "name": "python",
   "nbconvert_exporter": "python",
   "pygments_lexer": "ipython3",
   "version": "3.9.7"
  }
 },
 "nbformat": 4,
 "nbformat_minor": 5
}
