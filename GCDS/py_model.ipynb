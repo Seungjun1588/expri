{
 "cells": [
  {
   "cell_type": "code",
   "execution_count": 2,
   "id": "2736326e",
   "metadata": {},
   "outputs": [
    {
     "name": "stderr",
     "output_type": "stream",
     "text": [
      "C:\\Users\\user\\.conda\\envs\\torch\\lib\\site-packages\\torchvision\\io\\image.py:13: UserWarning: Failed to load image Python extension: Could not find module 'C:\\Users\\user\\.conda\\envs\\torch\\lib\\site-packages\\torchvision\\image.pyd' (or one of its dependencies). Try using the full path with constructor syntax.\n",
      "  warn(f\"Failed to load image Python extension: {e}\")\n"
     ]
    }
   ],
   "source": [
    "import torch\n",
    "import torch.nn as nn\n",
    "import torch.optim as optim\n",
    "import torchvision.utils as utils\n",
    "import torchvision.datasets as dsets\n",
    "import torchvision.transforms as transforms\n",
    "from torchvision.utils import save_image\n",
    "\n",
    "import os\n",
    "import numpy as np\n",
    "import matplotlib.pyplot as plt"
   ]
  },
  {
   "cell_type": "code",
   "execution_count": 3,
   "id": "465d3ad3",
   "metadata": {},
   "outputs": [
    {
     "name": "stdout",
     "output_type": "stream",
     "text": [
      "device = cuda\n"
     ]
    }
   ],
   "source": [
    "device = 'cuda' if torch.cuda.is_available() else 'cpu'\n",
    "print(f\"device = {device}\")\n",
    "sample_dir = 'samples'\n",
    "if not os.path.exists(sample_dir):\n",
    "    os.makedirs(sample_dir)"
   ]
  },
  {
   "cell_type": "code",
   "execution_count": 4,
   "id": "ceb3b047",
   "metadata": {},
   "outputs": [],
   "source": [
    "# 하이퍼파라미터 설정\n",
    "latent_size = 64\n",
    "hidden_size = 256\n",
    "image_size = 784 # 28 * 28\n",
    "num_epochs = 300\n",
    "batch_size = 100"
   ]
  },
  {
   "cell_type": "code",
   "execution_count": 5,
   "id": "66cdb635",
   "metadata": {
    "scrolled": true
   },
   "outputs": [
    {
     "ename": "NameError",
     "evalue": "name 'mnist_train' is not defined",
     "output_type": "error",
     "traceback": [
      "\u001b[1;31m---------------------------------------------------------------------------\u001b[0m",
      "\u001b[1;31mNameError\u001b[0m                                 Traceback (most recent call last)",
      "\u001b[1;32m~\\AppData\\Local\\Temp/ipykernel_51036/1117618835.py\u001b[0m in \u001b[0;36m<module>\u001b[1;34m\u001b[0m\n\u001b[1;32m----> 1\u001b[1;33m \u001b[0mmnist_train\u001b[0m \u001b[1;31m# 6a\u001b[0m\u001b[1;33m\u001b[0m\u001b[1;33m\u001b[0m\u001b[0m\n\u001b[0m",
      "\u001b[1;31mNameError\u001b[0m: name 'mnist_train' is not defined"
     ]
    }
   ],
   "source": [
    "mnist_train # 6a"
   ]
  },
  {
   "cell_type": "code",
   "execution_count": 6,
   "id": "82b7f059",
   "metadata": {},
   "outputs": [],
   "source": [
    "# Image Processing\n",
    "transform = transforms.Compose([\n",
    "                    transforms.ToTensor(),\n",
    "                    transforms.Normalize(mean=[0.5], # 1 for gray scale 만약, RGB channels라면 mean=(0.5, 0.5, 0.5)\n",
    "                                         std=[0.5])])  # 1 for gray scale 만약, RGB channels라면 std=(0.5, 0.5, 0.5)\n",
    "\n",
    "# MNIST 데이터셋\n",
    "mnist_train = dsets.MNIST(root='data/',\n",
    "                         train=True, # 트레인 셋\n",
    "                         transform=transform,\n",
    "                         download=True)\n",
    "mnist_test  = dsets.MNIST(root='data/', \n",
    "                          train=False,\n",
    "                          transform=transform,\n",
    "                          download=True)\n",
    "# 랜덤으로 9개만 시각화"
   ]
  },
  {
   "cell_type": "code",
   "execution_count": 7,
   "id": "596c6924",
   "metadata": {},
   "outputs": [
    {
     "data": {
      "image/png": "[encoded data removed]",
      "text/plain": [
       "<Figure size 576x576 with 9 Axes>"
      ]
     },
     "metadata": {
      "needs_background": "light"
     },
     "output_type": "display_data"
    }
   ],
   "source": [
    "figure = plt.figure(figsize=(8, 8))\n",
    "cols, rows = 3, 3\n",
    "for i in range(1, cols * rows + 1):\n",
    "    sample_idx = torch.randint(len(mnist_train), size=(1,)).item()\n",
    "    img, label = mnist_train[sample_idx]\n",
    "    figure.add_subplot(rows, cols, i)\n",
    "    plt.axis(\"off\") # x축, y축 안보이게 설정\n",
    "    plt.imshow(img.squeeze(), cmap=\"gray\")\n",
    "plt.show() "
   ]
  },
  {
   "cell_type": "code",
   "execution_count": 8,
   "id": "18e3df24",
   "metadata": {
    "scrolled": false
   },
   "outputs": [
    {
     "name": "stdout",
     "output_type": "stream",
     "text": [
      "tensor(-1.)\n",
      "tensor(1.)\n"
     ]
    }
   ],
   "source": [
    "print(mnist_train[0][0].squeeze().min())\n",
    "print(mnist_train[0][0].squeeze().max())"
   ]
  },
  {
   "cell_type": "code",
   "execution_count": 9,
   "id": "ee709977",
   "metadata": {},
   "outputs": [],
   "source": [
    "# 데이터 로더\n",
    "data_loader = torch.utils.data.DataLoader(dataset=mnist_train, # 훈련용 데이터 로딩\n",
    "                                          batch_size=batch_size,\n",
    "                                          shuffle=True) # 에폭마다 데이터 섞기"
   ]
  },
  {
   "cell_type": "code",
   "execution_count": 226,
   "id": "0ea9616c",
   "metadata": {},
   "outputs": [],
   "source": [
    "# Discriminator\n",
    "# D = nn.Sequential(\n",
    "#     nn.Linear(image_size, hidden_size),\n",
    "#     nn.LeakyReLU(0.2),\n",
    "#     nn.Linear(hidden_size, hidden_size),\n",
    "#     nn.LeakyReLU(0.2),\n",
    "#     nn.Linear(hidden_size, 1),\n",
    "#     nn.Sigmoid()) # Binary Cross Entropy loss 를 사용할 것이기에 sigmoid 사용!\n",
    "\n",
    "# Generator \n",
    "G1 = nn.Sequential(\n",
    "    nn.Flatten(1), # \n",
    "    nn.Linear(784, 128), # 100*128\n",
    "    nn.BatchNorm1d(128), # 100*128\n",
    "    nn.LeakyReLU(0.2)) # 100*128\n",
    "\n",
    "eta = torch.randn(batch_size, 100, device=device)\n",
    "\n",
    "# G1_out = torch.concat((G1,eta),1).resize(batch_size,228,1,1) # 100*228*1*1\n",
    "\n",
    "G2 = nn.Sequential( # input : G1_out\n",
    "    nn.ConvTranspose2d(228,256,kernel_size=(7,7),stride=(1,1),padding=0), # [100, 256, 7, 7]\n",
    "    nn.BatchNorm2d(256), # \n",
    "    nn.LeakyReLU(0.2), # [100, 256, 7, 7]\n",
    "    nn.ConvTranspose2d(256,128,kernel_size=(5,5),stride=(2,2),padding=2,output_padding =1), # [100, 128, 14, 14]\n",
    "    nn.BatchNorm2d(128), # \n",
    "    nn.LeakyReLU(0.2),#\n",
    "    nn.ConvTranspose2d(128,1,kernel_size=(5,5),stride=(1,1),padding=2), # [100, 1, 14, 14] -> should be matched with size of y.\n",
    "    nn.ReLU()# [100, 1, 14, 14]\n",
    "    )\n",
    "\n",
    "# Device setting\n",
    "# D = D.to(device)\n",
    "G1 = G1.to(device)\n",
    "G2 = G2.to(device)"
   ]
  },
  {
   "cell_type": "code",
   "execution_count": 227,
   "id": "4d599793",
   "metadata": {},
   "outputs": [
    {
     "data": {
      "text/plain": [
       "torch.Size([100, 100])"
      ]
     },
     "execution_count": 227,
     "metadata": {},
     "output_type": "execute_result"
    }
   ],
   "source": [
    "eta.size()"
   ]
  },
  {
   "cell_type": "code",
   "execution_count": 228,
   "id": "0cf64429",
   "metadata": {},
   "outputs": [
    {
     "name": "stdout",
     "output_type": "stream",
     "text": [
      "torch.Size([100, 1, 28, 28])\n",
      "torch.Size([100])\n",
      "torch.Size([100, 128])\n",
      "torch.Size([100, 228, 1, 1])\n",
      "torch.Size([100, 1, 14, 14])\n"
     ]
    }
   ],
   "source": [
    "for batch_image,batch_label in data_loader:\n",
    "    print(batch_image.size())\n",
    "    print(batch_label.size())\n",
    "    out1 = G1(batch_image.to(device))\n",
    "    print(out1.size())\n",
    "    G1_out = torch.concat((out1,eta),1).resize(batch_size,228,1,1)\n",
    "    print(G1_out.size())\n",
    "    print(G2(G1_out).size())\n",
    "    \n",
    "    break\n",
    "    "
   ]
  },
  {
   "cell_type": "code",
   "execution_count": 62,
   "id": "96a886b9",
   "metadata": {},
   "outputs": [],
   "source": [
    "def imshow(img):\n",
    "    img = (img+1) / 2\n",
    "    img = img.squeeze() # 차원 중 사이즈 1 을 제거\n",
    "    np_img = img.numpy() # 이미지 픽셀을 넘파이 배열로 변환\n",
    "    plt.imshow(np_img,cmap='gray')\n",
    "    plt.show()\n",
    "\n",
    "def imshow_grid(img): \n",
    "    img = utils.make_grid(img.cpu().detach()) # 이미지 그리드 생성, 이미지 출력만을 위해 cpu에 담고 추적 방이\n",
    "    img = (img+1)/2\n",
    "    npimg = img.numpy() # 이미지 픽셀을 넘파이 배열로 변환\n",
    "    plt.imshow(np.transpose(npimg, (1,2,0)))\n",
    "    plt.show()"
   ]
  },
  {
   "cell_type": "code",
   "execution_count": null,
   "id": "6c9a2ad9",
   "metadata": {},
   "outputs": [],
   "source": []
  },
  {
   "cell_type": "code",
   "execution_count": 92,
   "id": "1efd26ef",
   "metadata": {},
   "outputs": [
    {
     "name": "stdout",
     "output_type": "stream",
     "text": [
      "torch.Size([2, 28, 28])\n",
      "torch.Size([2, 784])\n"
     ]
    }
   ],
   "source": [
    "samp = torch.randn(2,28,28,device=device)\n",
    "print(samp.shape)\n",
    "fn = nn.Flatten(1)\n",
    "res = fn(samp)\n",
    "print(res.size())"
   ]
  },
  {
   "cell_type": "code",
   "execution_count": 101,
   "id": "3b086e11",
   "metadata": {},
   "outputs": [
    {
     "name": "stdout",
     "output_type": "stream",
     "text": [
      "torch.Size([2, 128])\n"
     ]
    }
   ],
   "source": [
    "print(G1(samp).size())\n",
    "eta = torch.randn(2, 100, device=device)"
   ]
  },
  {
   "cell_type": "code",
   "execution_count": 108,
   "id": "af0bfe15",
   "metadata": {},
   "outputs": [
    {
     "name": "stdout",
     "output_type": "stream",
     "text": [
      "torch.Size([2, 228])\n"
     ]
    }
   ],
   "source": [
    "res2 = torch.concat((G1(samp),eta),1)\n",
    "print(res2.size())\n",
    "res2"
   ]
  },
  {
   "cell_type": "code",
   "execution_count": 99,
   "id": "beb07cf4",
   "metadata": {},
   "outputs": [
    {
     "ename": "TypeError",
     "evalue": "expected Tensor as element 0 in argument 0, but got int",
     "output_type": "error",
     "traceback": [
      "\u001b[1;31m---------------------------------------------------------------------------\u001b[0m",
      "\u001b[1;31mTypeError\u001b[0m                                 Traceback (most recent call last)",
      "\u001b[1;32m~\\AppData\\Local\\Temp/ipykernel_38312/1516196942.py\u001b[0m in \u001b[0;36m<module>\u001b[1;34m\u001b[0m\n\u001b[1;32m----> 1\u001b[1;33m \u001b[0mtorch\u001b[0m\u001b[1;33m.\u001b[0m\u001b[0mconcat\u001b[0m\u001b[1;33m(\u001b[0m\u001b[0mG1\u001b[0m\u001b[1;33m(\u001b[0m\u001b[0msamp\u001b[0m\u001b[1;33m)\u001b[0m\u001b[1;33m.\u001b[0m\u001b[0msize\u001b[0m\u001b[1;33m(\u001b[0m\u001b[1;33m)\u001b[0m\u001b[1;33m)\u001b[0m\u001b[1;33m\u001b[0m\u001b[1;33m\u001b[0m\u001b[0m\n\u001b[0m",
      "\u001b[1;31mTypeError\u001b[0m: expected Tensor as element 0 in argument 0, but got int"
     ]
    }
   ],
   "source": [
    "# 다시 만들기"
   ]
  },
  {
   "cell_type": "code",
   "execution_count": null,
   "id": "f32da730",
   "metadata": {},
   "outputs": [],
   "source": [
    "# 생성자 이용해 데이터 만들기\n",
    "rand = torch.randn(1, 100, device=device)\n",
    "img_1 = G(rand).view(-1,28,28)\n",
    "\n",
    "imshow(img_1.squeeze().cpu().detach())"
   ]
  },
  {
   "cell_type": "code",
   "execution_count": null,
   "id": "b4776bc0",
   "metadata": {},
   "outputs": [],
   "source": [
    "# Batch SIze만큼 노이즈 생성하여 그리드로 출력\n",
    "rand = torch.randn(batch_size, 100, device=device)\n",
    "img_1 = G(rand)\n",
    "imshow_grid(img_1)"
   ]
  },
  {
   "cell_type": "code",
   "execution_count": null,
   "id": "27c7f179",
   "metadata": {},
   "outputs": [],
   "source": []
  },
  {
   "cell_type": "code",
   "execution_count": null,
   "id": "a13d35c9",
   "metadata": {},
   "outputs": [],
   "source": [
    "# Binary cross entropy loss and optimizer\n",
    "criterion = nn.BCELoss()\n",
    "d_optimizer = torch.optim.Adam(D.parameters(), lr=0.0002)\n",
    "g_optimizer = torch.optim.Adam(G.parameters(), lr=0.0002)"
   ]
  },
  {
   "cell_type": "code",
   "execution_count": null,
   "id": "0c70bb31",
   "metadata": {},
   "outputs": [],
   "source": [
    "def denorm(x):\n",
    "    out = (x + 1) / 2\n",
    "    return out.clamp(0, 1)\n",
    "\n",
    "def reset_grad(): # 가중치를 0으로 초기화\n",
    "    d_optimizer.zero_grad()\n",
    "    g_optimizer.zero_grad()"
   ]
  },
  {
   "cell_type": "code",
   "execution_count": null,
   "id": "ff80ba7a",
   "metadata": {},
   "outputs": [],
   "source": [
    "dx_epoch = []\n",
    "dgx_epoch = []\n",
    "total_step = len(data_loader)\n",
    "for epoch in range(num_epochs):\n",
    "    for i, (images, _) in enumerate(data_loader):\n",
    "        images = images.reshape(batch_size, -1).to(device)\n",
    "        \n",
    "        # Create the labels which are later used as input for the BCE loss\n",
    "        real_labels = torch.ones(batch_size, 1).to(device)\n",
    "        fake_labels = torch.zeros(batch_size, 1).to(device)\n",
    "\n",
    "        # ================================================================== #\n",
    "        #                      Train the discriminator                       #\n",
    "        # ================================================================== #\n",
    "\n",
    "        # Compute BCE_Loss using real images where BCE_Loss(x, y): - y * log(D(x)) - (1-y) * log(1 - D(x))\n",
    "        # Second term of the loss is always zero since real_labels == 1\n",
    "        outputs = D(images)\n",
    "        d_loss_real = criterion(outputs, real_labels)\n",
    "        real_score = outputs\n",
    "        \n",
    "        # Compute BCELoss using fake images\n",
    "        # First term of the loss is always zero since fake_labels == 0\n",
    "        z = torch.randn(batch_size, latent_size).to(device)\n",
    "        fake_images = G(z)\n",
    "        outputs = D(fake_images)\n",
    "        d_loss_fake = criterion(outputs, fake_labels)\n",
    "        fake_score = outputs\n",
    "        \n",
    "        # Backprop and optimize\n",
    "        d_loss = d_loss_real + d_loss_fake\n",
    "        reset_grad()\n",
    "        d_loss.backward()\n",
    "        d_optimizer.step()\n",
    "        \n",
    "        # ================================================================== #\n",
    "        #                        Train the generator                         #\n",
    "        # ================================================================== #\n",
    "\n",
    "        # Compute loss with fake images\n",
    "        z = torch.randn(batch_size, latent_size).to(device)\n",
    "        fake_images = G(z)\n",
    "        outputs = D(fake_images)\n",
    "    \n",
    "        g_loss = criterion(outputs, real_labels)\n",
    "        \n",
    "        # Backprop and optimize\n",
    "        reset_grad()\n",
    "        g_loss.backward()\n",
    "        g_optimizer.step()\n",
    "        \n",
    "        if (i+1) % 200 == 0:\n",
    "            print('Epoch [{}/{}], Step [{}/{}], d_loss: {:.4f}, g_loss: {:.4f}, D(x): {:.2f}, D(G(z)): {:.2f}' \n",
    "                  .format(epoch, num_epochs, i+1, total_step, d_loss.item(), g_loss.item(), \n",
    "                          real_score.mean().item(), fake_score.mean().item()))\n",
    "    dx_epoch.append(real_score.mean().item())            \n",
    "    dgx_epoch.append(fake_score.mean().item())\n",
    "    # real image 저장\n",
    "    if (epoch+1) == 1:\n",
    "        images = images.reshape(images.size(0), 1, 28, 28)\n",
    "        save_image(denorm(images), os.path.join(sample_dir, 'real_images.png'))\n",
    "    \n",
    "    # 생성된 이미지 저장\n",
    "    fake_images = fake_images.reshape(fake_images.size(0), 1, 28, 28)\n",
    "    save_image(denorm(fake_images), os.path.join(sample_dir, 'fake_images-{}.png'.format(epoch+1)))\n",
    "\n",
    "# 생성자, 판별자 각각 모델 저장\n",
    "torch.save(G.state_dict(), 'G.ckpt')\n",
    "torch.save(D.state_dict(), 'D.ckpt')"
   ]
  },
  {
   "cell_type": "code",
   "execution_count": null,
   "id": "70cb8802",
   "metadata": {},
   "outputs": [],
   "source": [
    "# plot    \n",
    "plt.figure(figsize = (12, 8))\n",
    "plt.xlabel('epoch')\n",
    "plt.ylabel('score')\n",
    "x = np.arange(num_epochs)\n",
    "plt.plot(x, dx_epoch, 'g', label='D(x)')\n",
    "plt.plot(x, dgx_epoch, 'b', label='D(G(z))')\n",
    "plt.legend()\n",
    "plt.show()"
   ]
  },
  {
   "cell_type": "code",
   "execution_count": null,
   "id": "14273101",
   "metadata": {},
   "outputs": [],
   "source": []
  },
  {
   "cell_type": "code",
   "execution_count": null,
   "id": "4d0117e3",
   "metadata": {},
   "outputs": [],
   "source": []
  },
  {
   "cell_type": "code",
   "execution_count": null,
   "id": "cdbe0789",
   "metadata": {},
   "outputs": [],
   "source": []
  },
  {
   "cell_type": "code",
   "execution_count": null,
   "id": "8dbb6307",
   "metadata": {},
   "outputs": [],
   "source": []
  },
  {
   "cell_type": "code",
   "execution_count": null,
   "id": "18e689af",
   "metadata": {},
   "outputs": [],
   "source": []
  },
  {
   "cell_type": "code",
   "execution_count": null,
   "id": "959e5b12",
   "metadata": {},
   "outputs": [],
   "source": []
  }
 ],
 "metadata": {
  "kernelspec": {
   "display_name": "torch",
   "language": "python",
   "name": "torch"
  },
  "language_info": {
   "codemirror_mode": {
    "name": "ipython",
    "version": 3
   },
   "file_extension": ".py",
   "mimetype": "text/x-python",
   "name": "python",
   "nbconvert_exporter": "python",
   "pygments_lexer": "ipython3",
   "version": "3.9.7"
  }
 },
 "nbformat": 4,
 "nbformat_minor": 5
}
