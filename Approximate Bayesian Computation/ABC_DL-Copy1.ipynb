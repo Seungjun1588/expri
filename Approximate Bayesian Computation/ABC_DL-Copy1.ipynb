{
 "cells": [
  {
   "cell_type": "code",
   "execution_count": 1,
   "id": "ce9cfcb0",
   "metadata": {},
   "outputs": [],
   "source": [
    "import numpy as np\n",
    "import pandas as pd\n",
    "import matplotlib.pyplot as plt\n",
    "\n",
    "import torch\n",
    "import torch.nn as nn\n",
    "import torch.nn.functional as F\n",
    "import torch.optim as optim\n",
    "from torchvision import datasets, transforms\n",
    "from torch.utils.data import Dataset\n",
    "from torch.utils.data import DataLoader"
   ]
  },
  {
   "cell_type": "code",
   "execution_count": 2,
   "id": "508db6c8",
   "metadata": {},
   "outputs": [
    {
     "data": {
      "text/plain": [
       "True"
      ]
     },
     "execution_count": 2,
     "metadata": {},
     "output_type": "execute_result"
    }
   ],
   "source": [
    "torch.cuda.is_available()"
   ]
  },
  {
   "cell_type": "markdown",
   "id": "f4d8b49d",
   "metadata": {},
   "source": [
    "# train_dataset "
   ]
  },
  {
   "cell_type": "code",
   "execution_count": 3,
   "id": "b3dcc574",
   "metadata": {
    "scrolled": true
   },
   "outputs": [],
   "source": [
    "trainset_x = pd.read_csv(\"train_x.csv\")\n",
    "trainset_y = pd.read_csv(\"train_theta.csv\")"
   ]
  },
  {
   "cell_type": "code",
   "execution_count": 4,
   "id": "01bf5676",
   "metadata": {},
   "outputs": [
    {
     "name": "stdout",
     "output_type": "stream",
     "text": [
      "(100000000, 1)\n",
      "(1000000, 2)\n"
     ]
    }
   ],
   "source": [
    "print(trainset_x.shape)\n",
    "print(trainset_y.shape)"
   ]
  },
  {
   "cell_type": "code",
   "execution_count": 5,
   "id": "a2e6e361",
   "metadata": {},
   "outputs": [],
   "source": [
    "y1_tensor = torch.tensor(trainset_y.theta1,dtype=torch.float32).reshape(-1,1)\n",
    "y2_tensor = torch.tensor(trainset_y.theta2,dtype=torch.float32).reshape(-1,1)"
   ]
  },
  {
   "cell_type": "code",
   "execution_count": 6,
   "id": "d9e831c9",
   "metadata": {},
   "outputs": [],
   "source": [
    "train_x = torch.tensor(trainset_x.x,dtype=torch.float32).reshape(-1,100)\n",
    "train_y = torch.hstack((y1_tensor,y2_tensor))"
   ]
  },
  {
   "cell_type": "code",
   "execution_count": 7,
   "id": "5c8be680",
   "metadata": {},
   "outputs": [
    {
     "name": "stdout",
     "output_type": "stream",
     "text": [
      "torch.Size([1000000, 100])\n",
      "torch.Size([1000000, 2])\n"
     ]
    }
   ],
   "source": [
    "print(train_x.shape)\n",
    "print(train_y.shape)"
   ]
  },
  {
   "cell_type": "markdown",
   "id": "9e06fb75",
   "metadata": {},
   "source": [
    "# validation set"
   ]
  },
  {
   "cell_type": "code",
   "execution_count": 8,
   "id": "3b706a92",
   "metadata": {},
   "outputs": [],
   "source": [
    "validset_x = pd.read_csv(\"valid_x.csv\")\n",
    "validset_y = pd.read_csv(\"valid_theta.csv\")"
   ]
  },
  {
   "cell_type": "code",
   "execution_count": 9,
   "id": "7169f444",
   "metadata": {},
   "outputs": [
    {
     "name": "stdout",
     "output_type": "stream",
     "text": [
      "(10000000, 1)\n",
      "(100000, 2)\n"
     ]
    }
   ],
   "source": [
    "print(validset_x.shape)\n",
    "print(validset_y.shape)"
   ]
  },
  {
   "cell_type": "code",
   "execution_count": 13,
   "id": "e4df9f5f",
   "metadata": {},
   "outputs": [],
   "source": [
    "y1_tensor = torch.tensor(validset_y.theta1,dtype=torch.float32).reshape(-1,1)\n",
    "y2_tensor = torch.tensor(validset_y.theta2,dtype=torch.float32).reshape(-1,1)"
   ]
  },
  {
   "cell_type": "code",
   "execution_count": 14,
   "id": "6a0a363e",
   "metadata": {},
   "outputs": [],
   "source": [
    "valid_x = torch.tensor(validset_x.x,dtype=torch.float32).reshape(-1,100)\n",
    "valid_y = torch.hstack((y1_tensor,y2_tensor))"
   ]
  },
  {
   "cell_type": "code",
   "execution_count": 15,
   "id": "921a454f",
   "metadata": {},
   "outputs": [
    {
     "name": "stdout",
     "output_type": "stream",
     "text": [
      "torch.Size([100000, 100])\n",
      "torch.Size([100000, 2])\n"
     ]
    }
   ],
   "source": [
    "print(valid_x.shape)\n",
    "print(valid_y.shape)"
   ]
  },
  {
   "cell_type": "markdown",
   "id": "6d966a16",
   "metadata": {},
   "source": [
    "# test datset "
   ]
  },
  {
   "cell_type": "code",
   "execution_count": 16,
   "id": "20a90885",
   "metadata": {},
   "outputs": [],
   "source": [
    "testset_x = pd.read_csv(\"test_x.csv\")\n",
    "testset_y = pd.read_csv(\"test_theta.csv\")"
   ]
  },
  {
   "cell_type": "code",
   "execution_count": 17,
   "id": "6725e4e2",
   "metadata": {},
   "outputs": [
    {
     "name": "stdout",
     "output_type": "stream",
     "text": [
      "(10000000, 1)\n",
      "(100000, 2)\n"
     ]
    }
   ],
   "source": [
    "print(testset_x.shape)\n",
    "print(testset_y.shape)"
   ]
  },
  {
   "cell_type": "code",
   "execution_count": 18,
   "id": "93db44e8",
   "metadata": {},
   "outputs": [],
   "source": [
    "y1_tensor = torch.tensor(testset_y.theta1,dtype=torch.float32).reshape(-1,1)\n",
    "y2_tensor = torch.tensor(testset_y.theta2,dtype=torch.float32).reshape(-1,1)"
   ]
  },
  {
   "cell_type": "code",
   "execution_count": 19,
   "id": "5a4231a7",
   "metadata": {},
   "outputs": [],
   "source": [
    "test_x = torch.tensor(testset_x.x,dtype=torch.float32).reshape(-1,100)\n",
    "test_y = torch.hstack((y1_tensor,y2_tensor))"
   ]
  },
  {
   "cell_type": "code",
   "execution_count": 20,
   "id": "03c75b4a",
   "metadata": {
    "scrolled": true
   },
   "outputs": [
    {
     "name": "stdout",
     "output_type": "stream",
     "text": [
      "torch.Size([1000000, 100])\n",
      "torch.Size([1000000, 2])\n",
      "torch.Size([100000, 100])\n",
      "torch.Size([100000, 2])\n"
     ]
    }
   ],
   "source": [
    "print(train_x.shape)\n",
    "print(train_y.shape)\n",
    "\n",
    "print(test_x.shape)\n",
    "print(test_y.shape)"
   ]
  },
  {
   "cell_type": "code",
   "execution_count": 21,
   "id": "76325b67",
   "metadata": {},
   "outputs": [
    {
     "name": "stdout",
     "output_type": "stream",
     "text": [
      "torch.float32\n",
      "torch.float32\n",
      "torch.float32\n",
      "torch.float32\n"
     ]
    }
   ],
   "source": [
    "print(train_x.dtype)\n",
    "print(train_y.dtype)\n",
    "\n",
    "print(test_x.dtype)\n",
    "print(test_y.dtype)"
   ]
  },
  {
   "cell_type": "markdown",
   "id": "b2b8dc4b",
   "metadata": {},
   "source": [
    "# data loader"
   ]
  },
  {
   "cell_type": "code",
   "execution_count": 22,
   "id": "9d3b6fa2",
   "metadata": {},
   "outputs": [],
   "source": [
    "# Dataset 상속\n",
    "class CustomDataset(Dataset): \n",
    "  def __init__(self,x_data,y_data):\n",
    "    self.x_data = x_data\n",
    "    self.y_data = y_data\n",
    "\n",
    "  # 총 데이터의 개수를 리턴\n",
    "  def __len__(self): \n",
    "    return len(self.x_data)\n",
    "\n",
    "  # 인덱스를 입력받아 그에 맵핑되는 입출력 데이터를 파이토치의 Tensor 형태로 리턴\n",
    "  def __getitem__(self, idx): \n",
    "    x = self.x_data[idx]\n",
    "    y = self.y_data[idx]\n",
    "    return x, y"
   ]
  },
  {
   "cell_type": "markdown",
   "id": "91290cbd",
   "metadata": {},
   "source": [
    "# 모델 생성"
   ]
  },
  {
   "cell_type": "code",
   "execution_count": 23,
   "id": "9ba50540",
   "metadata": {},
   "outputs": [
    {
     "name": "stdout",
     "output_type": "stream",
     "text": [
      "init model done\n"
     ]
    }
   ],
   "source": [
    "#Define Neural Networks Model.\n",
    "\n",
    "class Net(nn.Module):\n",
    "    def __init__(self):\n",
    "        super(Net, self).__init__()\n",
    "        self.fc1 = nn.Linear(100, 100)\n",
    "        self.fc2 = nn.Linear(100, 100)\n",
    "        self.fc3 = nn.Linear(100, 100)\n",
    "        self.fc4 = nn.Linear(100, 2)\n",
    "\n",
    "\n",
    "    def forward(self, x):\n",
    "        x = x.float()\n",
    "        h1 = torch.tanh(self.fc1(x))\n",
    "        h2 = torch.tanh(self.fc2(h1))\n",
    "        h3 = torch.tanh(self.fc3(h2))\n",
    "        out = self.fc4(h3)\n",
    "        return out\n",
    "\n",
    "print(\"init model done\")"
   ]
  },
  {
   "cell_type": "code",
   "execution_count": 24,
   "id": "73272ea0",
   "metadata": {},
   "outputs": [],
   "source": [
    "# Set Hyper parameters and other variables to train the model.\n",
    "\n",
    "batch_size = 1000\n",
    "\n",
    "test_batch_size = 1\n",
    "epochs = 10\n",
    "log_interval = 500\n",
    "\n",
    "lr = 0.05\n",
    "l2_term = 1e-05"
   ]
  },
  {
   "cell_type": "code",
   "execution_count": 25,
   "id": "6ac57896",
   "metadata": {},
   "outputs": [],
   "source": [
    "train_set = CustomDataset(train_x,train_y)\n",
    "valid_set = CustomDataset(valid_x,valid_y)\n",
    "test_set = CustomDataset(test_x,test_y)\n",
    "\n",
    "train_loader = DataLoader(train_set, batch_size=batch_size, shuffle=True)\n",
    "valid_loader = DataLoader(valid_set, batch_size=batch_size, shuffle=True)\n",
    "test_loader = DataLoader(test_set, batch_size=test_batch_size, shuffle=True)"
   ]
  },
  {
   "cell_type": "code",
   "execution_count": 26,
   "id": "0ad99487",
   "metadata": {},
   "outputs": [],
   "source": [
    "if(torch.cuda.is_available() ):\n",
    "    device = \"cuda\"\n",
    "else:\n",
    "    device =\"cpu\""
   ]
  },
  {
   "cell_type": "code",
   "execution_count": 27,
   "id": "85b45c79",
   "metadata": {},
   "outputs": [],
   "source": [
    "def train(log_interval, model, device, train_loader, epoch,l2_term):\n",
    "    model.train()\n",
    "    history = []\n",
    "    optimizer = optim.SGD(model.parameters(), lr=lr,weight_decay=l2_term)\n",
    "    for batch_idx, (data, target) in enumerate(train_loader):\n",
    "        data, target = data.to(device), target.to(device)\n",
    "        optimizer.zero_grad()\n",
    "        output = model(data)\n",
    "        loss = F.mse_loss(output, target) \n",
    "        history.append(loss)\n",
    "        loss.backward()\n",
    "        optimizer.step()\n",
    "        if batch_idx % log_interval == 0:\n",
    "            print('Train Epoch: {} [{}/{} ({:.0f}%)]\\tLoss: {:.6f}'.format(\n",
    "                epoch, batch_idx * len(data), len(train_loader.dataset),\n",
    "                100. * batch_idx / len(train_loader), loss.item()))\n",
    "    \n",
    "    train_history = sum(history)/len(history)\n",
    "            \n",
    "    # validation loss 여기다 찍어보자. \n",
    "    model.eval()\n",
    "    val_loss = 0\n",
    "    \n",
    "    with torch.no_grad():\n",
    "        for data, target in valid_loader:\n",
    "            data, target = data.to(device), target.to(device)\n",
    "            output = model(data)\n",
    "            val_loss += F.mse_loss(output, target, reduction='sum').item() \n",
    "\n",
    "    val_loss /= len(valid_loader.dataset)\n",
    "\n",
    "    print('\\nValid set: Average loss: {:.4f}\\n'.format(val_loss))\n",
    "    return train_history, val_loss\n",
    "\n",
    "def test(log_interval, model, device, test_loader):\n",
    "    model.eval()\n",
    "    test_loss = 0\n",
    "    \n",
    "    with torch.no_grad():\n",
    "        for data, target in test_loader:\n",
    "            data, target = data.to(device), target.to(device)\n",
    "            output = model(data)\n",
    "            test_loss += F.mse_loss(output, target, reduction='sum').item() \n",
    "\n",
    "    test_loss /= len(test_loader.dataset)\n",
    "\n",
    "    print('\\nTest set: Average loss: {:.4f}\\n'.format(test_loss))\n",
    "    \n",
    "    return output"
   ]
  },
  {
   "cell_type": "code",
   "execution_count": 28,
   "id": "8487451e",
   "metadata": {},
   "outputs": [],
   "source": [
    "lr = 0.05\n",
    "l2_term = 1e-03"
   ]
  },
  {
   "cell_type": "code",
   "execution_count": 29,
   "id": "923b9f99",
   "metadata": {},
   "outputs": [],
   "source": [
    "model = Net().to(device)\n",
    "# optimizer = optim.SGD(model.parameters(), lr=lr, momentum=momentum)"
   ]
  },
  {
   "cell_type": "code",
   "execution_count": 31,
   "id": "feeeb205",
   "metadata": {
    "scrolled": true
   },
   "outputs": [
    {
     "name": "stdout",
     "output_type": "stream",
     "text": [
      "Train Epoch: 1 [0/1000000 (0%)]\tLoss: 0.503983\n",
      "Train Epoch: 1 [500000/1000000 (50%)]\tLoss: 0.442828\n",
      "\n",
      "Valid set: Average loss: 0.8843\n",
      "\n",
      "Train Epoch: 2 [0/1000000 (0%)]\tLoss: 0.445310\n",
      "Train Epoch: 2 [500000/1000000 (50%)]\tLoss: 0.421261\n",
      "\n",
      "Valid set: Average loss: 0.4971\n",
      "\n",
      "Train Epoch: 3 [0/1000000 (0%)]\tLoss: 0.258225\n",
      "Train Epoch: 3 [500000/1000000 (50%)]\tLoss: 0.146792\n",
      "\n",
      "Valid set: Average loss: 0.2320\n",
      "\n",
      "Train Epoch: 4 [0/1000000 (0%)]\tLoss: 0.110945\n",
      "Train Epoch: 4 [500000/1000000 (50%)]\tLoss: 0.093400\n",
      "\n",
      "Valid set: Average loss: 0.1685\n",
      "\n",
      "Train Epoch: 5 [0/1000000 (0%)]\tLoss: 0.085422\n",
      "Train Epoch: 5 [500000/1000000 (50%)]\tLoss: 0.075616\n",
      "\n",
      "Valid set: Average loss: 0.1452\n",
      "\n",
      "Train Epoch: 6 [0/1000000 (0%)]\tLoss: 0.071297\n",
      "Train Epoch: 6 [500000/1000000 (50%)]\tLoss: 0.065003\n",
      "\n",
      "Valid set: Average loss: 0.1318\n",
      "\n",
      "Train Epoch: 7 [0/1000000 (0%)]\tLoss: 0.065426\n",
      "Train Epoch: 7 [500000/1000000 (50%)]\tLoss: 0.065077\n",
      "\n",
      "Valid set: Average loss: 0.1223\n",
      "\n",
      "Train Epoch: 8 [0/1000000 (0%)]\tLoss: 0.059535\n",
      "Train Epoch: 8 [500000/1000000 (50%)]\tLoss: 0.056057\n",
      "\n",
      "Valid set: Average loss: 0.1178\n",
      "\n",
      "Train Epoch: 9 [0/1000000 (0%)]\tLoss: 0.060884\n",
      "Train Epoch: 9 [500000/1000000 (50%)]\tLoss: 0.053464\n",
      "\n",
      "Valid set: Average loss: 0.1129\n",
      "\n",
      "Train Epoch: 10 [0/1000000 (0%)]\tLoss: 0.052387\n",
      "Train Epoch: 10 [500000/1000000 (50%)]\tLoss: 0.056929\n",
      "\n",
      "Valid set: Average loss: 0.1089\n",
      "\n",
      "Train Epoch: 11 [0/1000000 (0%)]\tLoss: 0.056229\n",
      "Train Epoch: 11 [500000/1000000 (50%)]\tLoss: 0.052707\n",
      "\n",
      "Valid set: Average loss: 0.1059\n",
      "\n",
      "Train Epoch: 12 [0/1000000 (0%)]\tLoss: 0.054718\n",
      "Train Epoch: 12 [500000/1000000 (50%)]\tLoss: 0.054599\n",
      "\n",
      "Valid set: Average loss: 0.1064\n",
      "\n",
      "Train Epoch: 13 [0/1000000 (0%)]\tLoss: 0.055977\n",
      "Train Epoch: 13 [500000/1000000 (50%)]\tLoss: 0.051659\n",
      "\n",
      "Valid set: Average loss: 0.1021\n",
      "\n",
      "Train Epoch: 14 [0/1000000 (0%)]\tLoss: 0.049774\n",
      "Train Epoch: 14 [500000/1000000 (50%)]\tLoss: 0.049983\n",
      "\n",
      "Valid set: Average loss: 0.1001\n",
      "\n",
      "Train Epoch: 15 [0/1000000 (0%)]\tLoss: 0.049075\n",
      "Train Epoch: 15 [500000/1000000 (50%)]\tLoss: 0.049307\n",
      "\n",
      "Valid set: Average loss: 0.0986\n",
      "\n",
      "Train Epoch: 16 [0/1000000 (0%)]\tLoss: 0.048644\n",
      "Train Epoch: 16 [500000/1000000 (50%)]\tLoss: 0.048354\n",
      "\n",
      "Valid set: Average loss: 0.0979\n",
      "\n",
      "Train Epoch: 17 [0/1000000 (0%)]\tLoss: 0.049724\n",
      "Train Epoch: 17 [500000/1000000 (50%)]\tLoss: 0.048438\n",
      "\n",
      "Valid set: Average loss: 0.0970\n",
      "\n",
      "Train Epoch: 18 [0/1000000 (0%)]\tLoss: 0.048312\n",
      "Train Epoch: 18 [500000/1000000 (50%)]\tLoss: 0.048285\n",
      "\n",
      "Valid set: Average loss: 0.0955\n",
      "\n",
      "Train Epoch: 19 [0/1000000 (0%)]\tLoss: 0.047523\n",
      "Train Epoch: 19 [500000/1000000 (50%)]\tLoss: 0.049094\n",
      "\n",
      "Valid set: Average loss: 0.1068\n",
      "\n",
      "Train Epoch: 20 [0/1000000 (0%)]\tLoss: 0.051612\n",
      "Train Epoch: 20 [500000/1000000 (50%)]\tLoss: 0.046673\n",
      "\n",
      "Valid set: Average loss: 0.0970\n",
      "\n",
      "Train Epoch: 21 [0/1000000 (0%)]\tLoss: 0.047922\n",
      "Train Epoch: 21 [500000/1000000 (50%)]\tLoss: 0.053382\n",
      "\n",
      "Valid set: Average loss: 0.0941\n",
      "\n",
      "Train Epoch: 22 [0/1000000 (0%)]\tLoss: 0.048393\n",
      "Train Epoch: 22 [500000/1000000 (50%)]\tLoss: 0.045328\n",
      "\n",
      "Valid set: Average loss: 0.0930\n",
      "\n",
      "Train Epoch: 23 [0/1000000 (0%)]\tLoss: 0.048150\n",
      "Train Epoch: 23 [500000/1000000 (50%)]\tLoss: 0.043543\n",
      "\n",
      "Valid set: Average loss: 0.0949\n",
      "\n",
      "Train Epoch: 24 [0/1000000 (0%)]\tLoss: 0.048076\n",
      "Train Epoch: 24 [500000/1000000 (50%)]\tLoss: 0.043911\n",
      "\n",
      "Valid set: Average loss: 0.0915\n",
      "\n",
      "Train Epoch: 25 [0/1000000 (0%)]\tLoss: 0.047275\n",
      "Train Epoch: 25 [500000/1000000 (50%)]\tLoss: 0.047692\n",
      "\n",
      "Valid set: Average loss: 0.0964\n",
      "\n",
      "Train Epoch: 26 [0/1000000 (0%)]\tLoss: 0.048056\n",
      "Train Epoch: 26 [500000/1000000 (50%)]\tLoss: 0.047682\n",
      "\n",
      "Valid set: Average loss: 0.0926\n",
      "\n",
      "Train Epoch: 27 [0/1000000 (0%)]\tLoss: 0.045422\n",
      "Train Epoch: 27 [500000/1000000 (50%)]\tLoss: 0.044043\n",
      "\n",
      "Valid set: Average loss: 0.0903\n",
      "\n",
      "Train Epoch: 28 [0/1000000 (0%)]\tLoss: 0.045534\n",
      "Train Epoch: 28 [500000/1000000 (50%)]\tLoss: 0.044111\n",
      "\n",
      "Valid set: Average loss: 0.0903\n",
      "\n",
      "Train Epoch: 29 [0/1000000 (0%)]\tLoss: 0.045450\n",
      "Train Epoch: 29 [500000/1000000 (50%)]\tLoss: 0.045194\n",
      "\n",
      "Valid set: Average loss: 0.0906\n",
      "\n",
      "Train Epoch: 30 [0/1000000 (0%)]\tLoss: 0.046858\n",
      "Train Epoch: 30 [500000/1000000 (50%)]\tLoss: 0.048784\n",
      "\n",
      "Valid set: Average loss: 0.0901\n",
      "\n",
      "Train Epoch: 31 [0/1000000 (0%)]\tLoss: 0.043245\n",
      "Train Epoch: 31 [500000/1000000 (50%)]\tLoss: 0.052046\n",
      "\n",
      "Valid set: Average loss: 0.0895\n",
      "\n",
      "Train Epoch: 32 [0/1000000 (0%)]\tLoss: 0.042232\n",
      "Train Epoch: 32 [500000/1000000 (50%)]\tLoss: 0.047567\n",
      "\n",
      "Valid set: Average loss: 0.0877\n",
      "\n",
      "Train Epoch: 33 [0/1000000 (0%)]\tLoss: 0.045381\n",
      "Train Epoch: 33 [500000/1000000 (50%)]\tLoss: 0.044659\n",
      "\n",
      "Valid set: Average loss: 0.0876\n",
      "\n",
      "Train Epoch: 34 [0/1000000 (0%)]\tLoss: 0.044401\n",
      "Train Epoch: 34 [500000/1000000 (50%)]\tLoss: 0.047851\n",
      "\n",
      "Valid set: Average loss: 0.0877\n",
      "\n",
      "Train Epoch: 35 [0/1000000 (0%)]\tLoss: 0.043207\n",
      "Train Epoch: 35 [500000/1000000 (50%)]\tLoss: 0.042324\n",
      "\n",
      "Valid set: Average loss: 0.0868\n",
      "\n",
      "Train Epoch: 36 [0/1000000 (0%)]\tLoss: 0.044422\n",
      "Train Epoch: 36 [500000/1000000 (50%)]\tLoss: 0.041994\n",
      "\n",
      "Valid set: Average loss: 0.0892\n",
      "\n",
      "Train Epoch: 37 [0/1000000 (0%)]\tLoss: 0.043186\n",
      "Train Epoch: 37 [500000/1000000 (50%)]\tLoss: 0.045374\n",
      "\n",
      "Valid set: Average loss: 0.0863\n",
      "\n",
      "Train Epoch: 38 [0/1000000 (0%)]\tLoss: 0.040426\n",
      "Train Epoch: 38 [500000/1000000 (50%)]\tLoss: 0.046574\n",
      "\n",
      "Valid set: Average loss: 0.0862\n",
      "\n",
      "Train Epoch: 39 [0/1000000 (0%)]\tLoss: 0.043619\n",
      "Train Epoch: 39 [500000/1000000 (50%)]\tLoss: 0.048463\n",
      "\n",
      "Valid set: Average loss: 0.0888\n",
      "\n",
      "Train Epoch: 40 [0/1000000 (0%)]\tLoss: 0.046405\n",
      "Train Epoch: 40 [500000/1000000 (50%)]\tLoss: 0.044033\n",
      "\n",
      "Valid set: Average loss: 0.0940\n",
      "\n",
      "Train Epoch: 41 [0/1000000 (0%)]\tLoss: 0.043812\n",
      "Train Epoch: 41 [500000/1000000 (50%)]\tLoss: 0.045294\n",
      "\n",
      "Valid set: Average loss: 0.0869\n",
      "\n",
      "Train Epoch: 42 [0/1000000 (0%)]\tLoss: 0.042590\n",
      "Train Epoch: 42 [500000/1000000 (50%)]\tLoss: 0.042872\n",
      "\n",
      "Valid set: Average loss: 0.1004\n",
      "\n",
      "Train Epoch: 43 [0/1000000 (0%)]\tLoss: 0.049303\n",
      "Train Epoch: 43 [500000/1000000 (50%)]\tLoss: 0.045330\n",
      "\n",
      "Valid set: Average loss: 0.0872\n",
      "\n",
      "Train Epoch: 44 [0/1000000 (0%)]\tLoss: 0.043727\n",
      "Train Epoch: 44 [500000/1000000 (50%)]\tLoss: 0.043702\n",
      "\n",
      "Valid set: Average loss: 0.0850\n",
      "\n",
      "Train Epoch: 45 [0/1000000 (0%)]\tLoss: 0.043666\n",
      "Train Epoch: 45 [500000/1000000 (50%)]\tLoss: 0.045140\n",
      "\n",
      "Valid set: Average loss: 0.0863\n",
      "\n",
      "Train Epoch: 46 [0/1000000 (0%)]\tLoss: 0.045222\n",
      "Train Epoch: 46 [500000/1000000 (50%)]\tLoss: 0.046019\n",
      "\n",
      "Valid set: Average loss: 0.0896\n",
      "\n",
      "Train Epoch: 47 [0/1000000 (0%)]\tLoss: 0.042812\n",
      "Train Epoch: 47 [500000/1000000 (50%)]\tLoss: 0.043416\n",
      "\n",
      "Valid set: Average loss: 0.0865\n",
      "\n",
      "Train Epoch: 48 [0/1000000 (0%)]\tLoss: 0.044901\n",
      "Train Epoch: 48 [500000/1000000 (50%)]\tLoss: 0.040728\n",
      "\n",
      "Valid set: Average loss: 0.0909\n",
      "\n",
      "Train Epoch: 49 [0/1000000 (0%)]\tLoss: 0.042592\n",
      "Train Epoch: 49 [500000/1000000 (50%)]\tLoss: 0.046047\n",
      "\n",
      "Valid set: Average loss: 0.0870\n",
      "\n",
      "Train Epoch: 50 [0/1000000 (0%)]\tLoss: 0.042159\n",
      "Train Epoch: 50 [500000/1000000 (50%)]\tLoss: 0.040530\n",
      "\n",
      "Valid set: Average loss: 0.0846\n",
      "\n"
     ]
    }
   ],
   "source": [
    "model = Net().to(device)\n",
    "\n",
    "train_history = []\n",
    "val_history = []\n",
    "for epoch in range(1, 51):\n",
    "    train_loss, val_loss = train(log_interval, model, device, train_loader, epoch,l2_term)\n",
    "    train_history.append(train_loss.item())\n",
    "    val_history.append(val_loss)\n",
    "    \n",
    "torch.save(model, './model_rev.pt')"
   ]
  },
  {
   "cell_type": "code",
   "execution_count": 32,
   "id": "bf96494a",
   "metadata": {},
   "outputs": [
    {
     "data": {
      "image/png": "[encoded data removed]",
      "text/plain": [
       "<Figure size 720x504 with 1 Axes>"
      ]
     },
     "metadata": {
      "needs_background": "light"
     },
     "output_type": "display_data"
    }
   ],
   "source": [
    "# 초기 loss 5빼고 시각화\n",
    "\n",
    "plt.title('loss')\n",
    "plt.plot(train_history[4:], '-o', label='train')\n",
    "plt.plot(val_history[4:], '-o', label='val')\n",
    "plt.xlabel('Epoch')\n",
    "plt.legend(loc='upper right')\n",
    "plt.gcf().set_size_inches(10, 7)\n",
    "plt.show()"
   ]
  },
  {
   "cell_type": "markdown",
   "id": "173b8ec6",
   "metadata": {},
   "source": [
    "# ABC"
   ]
  },
  {
   "cell_type": "code",
   "execution_count": 41,
   "id": "a09a8edf",
   "metadata": {},
   "outputs": [],
   "source": [
    "def autocov(series,lag=1):\n",
    "    n =len(series)\n",
    "    summ = 0\n",
    "    for i in range(n-lag):\n",
    "        summ = summ + series[i]*series[i+lag]\n",
    "    return summ  \n",
    "\n",
    "def distance_metric(a,b):\n",
    "    return torch.sum((a-b)**2)\n",
    "\n",
    "def MA_sample(theta,n):\n",
    "    sample = list()\n",
    "    u = np.random.randn(n+2)\n",
    "    for i in range(n):\n",
    "        sample.append(u[i+2] + u[i+1]*theta[0] + u[i]*theta[1])\n",
    "        \n",
    "    return sample"
   ]
  },
  {
   "cell_type": "code",
   "execution_count": 42,
   "id": "e2388156",
   "metadata": {},
   "outputs": [],
   "source": [
    "def ABC(log_interval, model, device, test_loader,eps=15):\n",
    "    model.eval()\n",
    "    test_loss = 0\n",
    "    res_theta1 = list()\n",
    "    res_theta2 = list()\n",
    "    \n",
    "    y = MA_sample(theta=[0.6,0.2],n=100) # target sample\n",
    "    y = torch.tensor(y,dtype=torch.float32).to(device)\n",
    "    \n",
    "    with torch.no_grad():\n",
    "        for z, target in test_loader:\n",
    "            z, target = z.to(device), target.to(device)\n",
    "            \n",
    "            z_theta =model(z)\n",
    "            y_theta = model(y)\n",
    "            #print(z_theta)\n",
    "            #print(y_theta)\n",
    "            \n",
    "            dist = distance_metric(z_theta,y_theta)\n",
    "            test_loss += F.mse_loss(z_theta, target, reduction='sum').item() \n",
    "\n",
    "            epsilon = eps\n",
    "            #print(target)\n",
    "            if dist < epsilon :\n",
    "                res_theta1.append(target[0,0].item())\n",
    "                res_theta2.append(target[0,1].item())\n",
    "                \n",
    "    test_loss /= len(test_loader.dataset)\n",
    "    print('\\nTest set: Average loss: {:.4f}\\n'.format(test_loss))\n",
    "    \n",
    "    return res_theta1, res_theta2"
   ]
  },
  {
   "cell_type": "code",
   "execution_count": 43,
   "id": "27716391",
   "metadata": {},
   "outputs": [],
   "source": [
    "y = MA_sample(theta=[0.6,0.2],n=100) # target sample"
   ]
  },
  {
   "cell_type": "code",
   "execution_count": 44,
   "id": "10e44d1f",
   "metadata": {},
   "outputs": [
    {
     "data": {
      "text/plain": [
       "tensor([0.7587, 0.2309], device='cuda:0', grad_fn=<AddBackward0>)"
      ]
     },
     "execution_count": 44,
     "metadata": {},
     "output_type": "execute_result"
    }
   ],
   "source": [
    "model(torch.tensor(y,dtype=torch.float32,device=device))"
   ]
  },
  {
   "cell_type": "code",
   "execution_count": 45,
   "id": "d4e72298",
   "metadata": {},
   "outputs": [
    {
     "data": {
      "text/plain": [
       "tensor(0.0131, device='cuda:0', grad_fn=<MeanBackward0>)"
      ]
     },
     "execution_count": 45,
     "metadata": {},
     "output_type": "execute_result"
    }
   ],
   "source": [
    "est = model(torch.tensor(y,dtype=torch.float32,device=device))\n",
    "torch.mean((est - torch.tensor([0.6,0.2],device=device,dtype=torch.float32))**2)"
   ]
  },
  {
   "cell_type": "code",
   "execution_count": 37,
   "id": "3c9daaf4",
   "metadata": {},
   "outputs": [
    {
     "name": "stdout",
     "output_type": "stream",
     "text": [
      "\n",
      "Test set: Average loss: 0.0852\n",
      "\n"
     ]
    }
   ],
   "source": [
    "theta1, theta2 = ABC(log_interval, model, device, test_loader,eps=0.8)"
   ]
  },
  {
   "cell_type": "code",
   "execution_count": 291,
   "id": "e979dd91",
   "metadata": {},
   "outputs": [
    {
     "data": {
      "text/plain": [
       "46175"
      ]
     },
     "execution_count": 291,
     "metadata": {},
     "output_type": "execute_result"
    }
   ],
   "source": [
    "len(theta1)"
   ]
  },
  {
   "cell_type": "code",
   "execution_count": 292,
   "id": "fd89613b",
   "metadata": {},
   "outputs": [
    {
     "data": {
      "text/plain": [
       "0.46175"
      ]
     },
     "execution_count": 292,
     "metadata": {},
     "output_type": "execute_result"
    }
   ],
   "source": [
    "len(theta1)/(1e+05)"
   ]
  },
  {
   "cell_type": "code",
   "execution_count": 293,
   "id": "8c384694",
   "metadata": {},
   "outputs": [
    {
     "name": "stdout",
     "output_type": "stream",
     "text": [
      "0.6169547872297954\n",
      "0.43955698040646307\n"
     ]
    },
    {
     "data": {
      "image/png": "[encoded data removed]",
      "text/plain": [
       "<Figure size 432x288 with 1 Axes>"
      ]
     },
     "metadata": {
      "needs_background": "light"
     },
     "output_type": "display_data"
    }
   ],
   "source": [
    "plt.scatter(theta1,theta2,s=0.5)\n",
    "ylim=[-1,1]\n",
    "xlim=[-2,2]\n",
    "plt.title(\"epsilon=0.8\")\n",
    "plt.scatter(0.6,0.2,color=\"red\")\n",
    "print(np.mean(theta1))\n",
    "print(np.mean(theta2))"
   ]
  },
  {
   "cell_type": "code",
   "execution_count": 279,
   "id": "ca2a27ac",
   "metadata": {},
   "outputs": [
    {
     "data": {
      "image/png": "[encoded data removed]",
      "text/plain": [
       "<Figure size 432x288 with 1 Axes>"
      ]
     },
     "metadata": {
      "needs_background": "light"
     },
     "output_type": "display_data"
    },
    {
     "name": "stdout",
     "output_type": "stream",
     "text": [
      "0.7373801337702102\n",
      "0.4811706896940258\n"
     ]
    }
   ],
   "source": [
    "plt.scatter(theta1,theta2,s=0.5)\n",
    "ylim=(-1,1)\n",
    "xlim=(-2,2)\n",
    "plt.title(\"epsilon=0.012\")\n",
    "plt.scatter(0.6,0.2,color=\"red\")\n",
    "plt.show()\n",
    "print(np.mean(theta1))\n",
    "print(np.mean(theta2))"
   ]
  },
  {
   "cell_type": "code",
   "execution_count": null,
   "id": "f6be9c4a",
   "metadata": {},
   "outputs": [],
   "source": []
  },
  {
   "cell_type": "code",
   "execution_count": 294,
   "id": "a262d85b",
   "metadata": {
    "scrolled": true
   },
   "outputs": [
    {
     "data": {
      "image/png": "[encoded data removed]",
      "text/plain": [
       "<Figure size 432x288 with 1 Axes>"
      ]
     },
     "metadata": {
      "needs_background": "light"
     },
     "output_type": "display_data"
    }
   ],
   "source": [
    "plt.hist(theta1) # 0.6418\n",
    "plt.show()"
   ]
  },
  {
   "cell_type": "code",
   "execution_count": 295,
   "id": "9004180d",
   "metadata": {},
   "outputs": [
    {
     "data": {
      "image/png": "[encoded data removed]",
      "text/plain": [
       "<Figure size 432x288 with 1 Axes>"
      ]
     },
     "metadata": {
      "needs_background": "light"
     },
     "output_type": "display_data"
    }
   ],
   "source": [
    "plt.hist(theta2) # 0.2399\n",
    "plt.show()"
   ]
  },
  {
   "cell_type": "code",
   "execution_count": null,
   "id": "e5d56a87",
   "metadata": {},
   "outputs": [],
   "source": [
    "# early stopping"
   ]
  },
  {
   "cell_type": "code",
   "execution_count": null,
   "id": "e6cfda81",
   "metadata": {},
   "outputs": [],
   "source": [
    "# prior에서 제안한 theta를 이용해서 모델을 만드는 부분에서 input data를 무수히 생성할 수 있다.\n",
    "# 딥러닝 모델의 입장에서는 굉장히 좋은 조건.\n",
    "#\n",
    "# 잘 학습된 모델만 있다면, summary statistic을 만드는게 굉장히 쉽고 정확하다."
   ]
  },
  {
   "cell_type": "code",
   "execution_count": null,
   "id": "85619904",
   "metadata": {},
   "outputs": [],
   "source": []
  },
  {
   "cell_type": "markdown",
   "id": "0d750c94",
   "metadata": {},
   "source": [
    "# 기존 그림"
   ]
  },
  {
   "cell_type": "code",
   "execution_count": null,
   "id": "2b74c567",
   "metadata": {},
   "outputs": [],
   "source": [
    "def theta_sim():\n",
    "    while(True):\n",
    "        theta1 = (np.random.random(1))*4 -2\n",
    "        theta2 = (np.random.random(1))*2 - 1\n",
    "        cond2 = theta1 + theta2 > -1\n",
    "        cond3 = theta1 - theta2 < 1\n",
    "        \n",
    "        if((cond2 == True)&(cond3 == True)):\n",
    "            res = np.concatenate((theta1,theta2),axis=0)\n",
    "            break\n",
    "    return res\n"
   ]
  },
  {
   "cell_type": "code",
   "execution_count": null,
   "id": "4a35a9ef",
   "metadata": {},
   "outputs": [],
   "source": [
    "res_theta1 = list()\n",
    "res_theta2 = list()\n",
    "idx = 0\n",
    "y = MA_sample(theta=[0.6,0.2],n=100) # target sample\n",
    "\n",
    "for i in range(10**6):\n",
    "    theta = theta_sim()\n",
    "    z =  MA_sample(theta=theta,n=100)\n",
    "    \n",
    "    y_autocov = np.array(autocov(y,lag=1),autocov(y,lag=2))\n",
    "    z_autocov = np.array(autocov(z,lag=1),autocov(z,lag=2))\n",
    "        \n",
    "    dist = distance_metric(y_autocov,z_autocov)\n",
    "\n",
    "    epsilon = 15\n",
    "    if dist < epsilon :\n",
    "        idx += 1\n",
    "        res_theta1.append(theta[0])\n",
    "        res_theta2.append(theta[1])"
   ]
  },
  {
   "cell_type": "code",
   "execution_count": null,
   "id": "56496333",
   "metadata": {},
   "outputs": [],
   "source": [
    "len(res_theta1)/(1e+06)"
   ]
  },
  {
   "cell_type": "code",
   "execution_count": null,
   "id": "e2bd3fbc",
   "metadata": {},
   "outputs": [],
   "source": [
    "plt.scatter(theta1,theta2,s=0.5)\n",
    "ylim=[-1,1]\n",
    "xlim=[-2,2]\n",
    "plt.scatter(0.6,0.2,color=\"red\")"
   ]
  },
  {
   "cell_type": "code",
   "execution_count": null,
   "id": "4670da26",
   "metadata": {},
   "outputs": [],
   "source": []
  },
  {
   "cell_type": "code",
   "execution_count": null,
   "id": "2c43de66",
   "metadata": {},
   "outputs": [],
   "source": []
  }
 ],
 "metadata": {
  "kernelspec": {
   "display_name": "torch",
   "language": "python",
   "name": "torch"
  },
  "language_info": {
   "codemirror_mode": {
    "name": "ipython",
    "version": 3
   },
   "file_extension": ".py",
   "mimetype": "text/x-python",
   "name": "python",
   "nbconvert_exporter": "python",
   "pygments_lexer": "ipython3",
   "version": "3.9.7"
  }
 },
 "nbformat": 4,
 "nbformat_minor": 5
}
